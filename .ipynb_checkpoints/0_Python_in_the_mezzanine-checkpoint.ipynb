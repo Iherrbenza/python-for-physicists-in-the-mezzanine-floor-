{
 "cells": [
  {
   "cell_type": "markdown",
   "id": "1571ae73-4d49-4aed-9d48-6c7bf1c46499",
   "metadata": {},
   "source": [
    "<b style=\"font-size:50px;color:#2196F3;\">Introduction to python for physicists in the mezzanine floor</b>  \n",
    "<b style=\"font-size:30px;color:#2196F3;\">notebook_0_introduction</b>\n",
    "\n",
    "This notebooks are created with the intention to give a practical introduction to python programming language for a scientist.   \n",
    "I going to give a very personal vision of it, specially ho i become a swiss knife tool for me as a experimental-physcisist.  \n",
    "In this 1st notebook I'll what is python for me and how I work with it. \n",
    "\n",
    "Ivan Herrera Benzaquen"
   ]
  },
  {
   "cell_type": "markdown",
   "id": "953533e9-fc03-402c-a08e-d4cd47363daa",
   "metadata": {
    "jp-MarkdownHeadingCollapsed": true,
    "tags": []
   },
   "source": [
    "## Software needed\n",
    "First of all, you want to install the python programming language. Also, I recommend JupyterLab as a convenient notebook interface for python programming. Depending on your taste and your system, you might want to download these individually or as part of a full distribution like Anaconda.\n",
    "\n",
    "An alternative, completely online solution is the Colaboratory platform by Google. This is a web-based jupyter notebook interface to python and allows you to run your code for free on their GPU servers.\n",
    "\n",
    "A third alternative is deepnote. This is also a free online platform with a jupyter interface."
   ]
  },
  {
   "cell_type": "markdown",
   "id": "b7fbca16-0932-4b1f-aba5-996c7105b11e",
   "metadata": {},
   "source": [
    "## The use of python in science\n",
    "**Theory**\n",
    "* sympy\n",
    "* numpy\n",
    "* matplolib\n",
    "* _etc_\n",
    "\n",
    "**Analysis**\n",
    "* numpy\n",
    "* matplotlib\n",
    "* pandas\n",
    "* scipy\n",
    "* scikit-learn\n",
    "* _etc_\n",
    "\n",
    "**I/O instrumets for experimental setup**\n",
    "* pyserial\n",
    "* pyvisa\n",
    "* opencv\n",
    "* socket\n",
    "* _etc_\n"
   ]
  },
  {
   "cell_type": "markdown",
   "id": "82a93e47-3a14-47ba-9ead-7c4ebbb8c9bb",
   "metadata": {},
   "source": [
    "## What is Python?\n",
    "Python is a general-purpose, object-oriented, high-level programming language.\n",
    "\n",
    "* **dynamically typed:** \n",
    "* **automatic memory management:** \n",
    "* **interpreted:** "
   ]
  },
  {
   "cell_type": "markdown",
   "id": "a25dd17b-036c-4a02-9ecd-b47ff8fe0708",
   "metadata": {},
   "source": [
    "### advantages\n",
    "\n",
    "* The main advantage is ease of programming, minimizing the time required to develop, debug and maintain the code\n",
    "<img src=\"data\\sketchy_graph.png\" width=\"600\">\n",
    "\n",
    "* Python has a strong position in scientific computing: \n",
    "    * Large community of users, easy to find help and documentation.\n",
    "\n",
    "* Set of well settled scientific libraries as:\n",
    "    * numpy: Numerical Python\n",
    "    * scipy: Scientific Python\n",
    "    * matplotlib: graphics library\n",
    "    *  _and more_\n",
    "    \n",
    "   "
   ]
  },
  {
   "cell_type": "markdown",
   "id": "c5af2e09-ada1-4d68-b5b7-83610b6e1439",
   "metadata": {
    "tags": []
   },
   "source": [
    "## Sofware package and stack\n",
    "\n",
    "<img src=\"data\\python_stack.png\" width=\"600\">"
   ]
  },
  {
   "cell_type": "code",
   "execution_count": null,
   "id": "9811442c-8c0d-4b45-8e85-1fbb44c0d83a",
   "metadata": {
    "tags": []
   },
   "outputs": [],
   "source": [
    "# versions \n",
    "!python --version"
   ]
  },
  {
   "cell_type": "markdown",
   "id": "c55eca25-5720-4bed-852d-313a4c658a0f",
   "metadata": {},
   "source": [
    "importing packages\n",
    "```python\n",
    "import numpy as np\n",
    "np.arange(10)\n",
    "\n",
    "import math\n",
    "x = math.cos(2 * pi)\n",
    "\n",
    "from math import *\n",
    "x = cos(2 * pi)\n",
    "\n",
    "from math import cos, pi\n",
    "x = cos(2 * pi)\n",
    "\n",
    "import yourfile.py\n",
    "```"
   ]
  },
  {
   "cell_type": "markdown",
   "id": "234a26ef-e174-4a15-a0ef-3bfa9379b2f3",
   "metadata": {},
   "source": [
    "## What is Anaconda?"
   ]
  },
  {
   "cell_type": "code",
   "execution_count": null,
   "id": "3f7c87f0-5a41-4aa3-bb69-9650f8953a2e",
   "metadata": {},
   "outputs": [],
   "source": [
    "# list packages\n",
    "!conda list"
   ]
  },
  {
   "cell_type": "code",
   "execution_count": null,
   "id": "6f61ef98-8c5c-4d0d-872a-b78380d788cc",
   "metadata": {
    "tags": []
   },
   "outputs": [],
   "source": [
    "lp = !conda list\n",
    "[print(i) for i in lp if 'matplotlib' in i] "
   ]
  },
  {
   "cell_type": "code",
   "execution_count": null,
   "id": "3b54dd39-c928-4d0c-9790-e84da0873a6e",
   "metadata": {
    "tags": []
   },
   "outputs": [],
   "source": [
    "# dependencies\n",
    "!conda search sympy=1.8 --info "
   ]
  },
  {
   "cell_type": "markdown",
   "id": "9aaee4db-437c-4831-8c3b-ebcc194d6020",
   "metadata": {},
   "source": [
    "### Usual conda commands"
   ]
  },
  {
   "cell_type": "markdown",
   "id": "ec71029d-2fb6-4fc6-b416-9e2edb315cda",
   "metadata": {},
   "source": [
    "conda install package_name=3.5.6\n",
    "conda update conda\n",
    "\n",
    "more in the cheat sheet\n",
    "https://docs.conda.io/projects/conda/en/4.6.0/_downloads/52a95608c49671267e40c689e0bc00ca/conda-cheatsheet.pdf"
   ]
  },
  {
   "cell_type": "markdown",
   "id": "7928201a-7521-4c0f-a270-d0c301d196a4",
   "metadata": {},
   "source": [
    "### conda enviroments\n",
    "\n",
    "A way to solve dependecies is to create a new enviroment, new python installation (only the core libraries)\n",
    "\n",
    "```\n",
    "conda create --name py35 python=3.5 \n",
    "```\n",
    "A enviorment py35 has been created with a python 3.5 on it\n",
    "```\n",
    "conda env list\n",
    "```\n",
    "List the envioroment you have\n",
    "```\n",
    "conda activate py35\n",
    "```\n",
    "change to the new envioroment\n",
    "\n",
    "```\n",
    "conda install package_name=3.9.0\n",
    "```\n",
    "this will install the packge in the activated enviroment"
   ]
  },
  {
   "cell_type": "markdown",
   "id": "f2ebc5c6-5bcf-458f-b1fb-a6a29902a669",
   "metadata": {},
   "source": [
    "## Interpreters and IDEs\n",
    "Atom, Sublime VSC\n",
    "Ipython,IDLE, and terminal that terrible thing"
   ]
  },
  {
   "cell_type": "markdown",
   "id": "e87bcd40-d93f-4bac-b3dc-c799f9efe80a",
   "metadata": {
    "tags": []
   },
   "source": [
    "## Jupyter notebook\n",
    "info  \n",
    "https://jupyterlab.readthedocs.io/en/stable/user/interface.html  \n",
    "cheat sheet  \n",
    "https://www.anaconda.com/wp-content/uploads/2019/03/11-2018-JupyterLab-Notebook-Cheatsheet.pdf  "
   ]
  },
  {
   "cell_type": "markdown",
   "id": "426a0102-9b23-4834-9844-4d04e4f0555c",
   "metadata": {
    "tags": [],
    "toc-hr-collapsed": true
   },
   "source": [
    "### markdown"
   ]
  },
  {
   "cell_type": "markdown",
   "id": "53b2b2c5-2be4-47a9-b926-ae34cae8819d",
   "metadata": {},
   "source": [
    "#### headers"
   ]
  },
  {
   "cell_type": "markdown",
   "id": "c09fb3da-b88a-4281-9bfd-145c6e58af9f",
   "metadata": {
    "tags": []
   },
   "source": [
    "#### lists\n",
    "* This is a bullet list\n",
    "* This is a bullet list\n",
    "* This is a bullet list\n",
    "\n",
    "1. And you can also create ordered lists\n",
    "2. by using numbers\n",
    "3. and listing new items in the lists \n",
    "4. on their own lines"
   ]
  },
  {
   "cell_type": "markdown",
   "id": "b51d4b57-8eb7-46ef-9033-2a43f5f9ca83",
   "metadata": {
    "tags": []
   },
   "source": [
    "#### block quotes\n",
    "> this a block quote  \n",
    "> here as well\n",
    "\n",
    "> And also can be nested\n",
    ">> like this\n",
    ">>> even more\n"
   ]
  },
  {
   "cell_type": "markdown",
   "id": "454c5059-3dc4-4c72-a9d2-570833dee9d2",
   "metadata": {},
   "source": [
    "#### reference links\n",
    "This is [a reference] [chile]\n",
    "\n",
    "[chile]: http://en.wikipedia.org/wiki/Chile \"Wikipedia Article About Chile\" "
   ]
  },
  {
   "cell_type": "markdown",
   "id": "51914494-3efd-4cc0-9b61-e2cdf1782781",
   "metadata": {},
   "source": [
    "[Next](1_Python_in_the_mezzanine.ipynb)"
   ]
  },
  {
   "cell_type": "markdown",
   "id": "767367c5-5c83-4855-8106-114db7e99523",
   "metadata": {
    "tags": []
   },
   "source": [
    "#### tables\n",
    "|Header|Header|Header|Header|\n",
    "|------|------|------|------|\n",
    "|Cell  |Cell  |Cell  | Cell |\n",
    "|Cell  |Cell  |Cell  | Cell |\n",
    "|Cell  |Cell  |Cell  | Cell |\n",
    "|Cell  |Cell  |Cell  | Cell |"
   ]
  },
  {
   "cell_type": "markdown",
   "id": "a5b2c07e-29f6-4214-b6bb-c6f57d204eaf",
   "metadata": {
    "tags": []
   },
   "source": [
    "#### style and emphasis\n",
    "*Italics*  _Italics_ **Bold** __Bold__"
   ]
  },
  {
   "cell_type": "markdown",
   "id": "439b324c-070f-4590-90f5-821cdf35d216",
   "metadata": {},
   "source": [
    "#### code\n",
    "The word ```monospace``` will appear in a code-like form.\n",
    "```python\n",
    "def function(n):\n",
    "    return n + 1\n",
    "```"
   ]
  },
  {
   "cell_type": "markdown",
   "id": "387f6fd2-6231-4d54-b386-e13ef50f8372",
   "metadata": {},
   "source": [
    "#### LaTeX math\n",
    "$z=\\dfrac{2x}{3y}$  \n",
    "\n",
    "$F(k) = \\int_{-\\infty}^{\\infty} f(x) e^{2\\pi i k} dx$\n",
    "\n",
    "$$2x+3y=z$$"
   ]
  },
  {
   "cell_type": "markdown",
   "id": "3906ba01-3e16-44ac-b854-ed9e4d5e927c",
   "metadata": {},
   "source": [
    "#### images\n",
    "![][beta_dec]\n",
    "\n",
    "[beta_dec]:https://upload.wikimedia.org/wikipedia/commons/a/aa/Beta-minus_Decay.svg \"showing beta-minus decay.\""
   ]
  },
  {
   "cell_type": "markdown",
   "id": "c8679d6a-5641-44cf-b231-dd43d143ecf8",
   "metadata": {},
   "source": [
    "### videos"
   ]
  },
  {
   "cell_type": "code",
   "execution_count": null,
   "id": "dc6346e2-e780-45ae-aec5-f2e4581b2ced",
   "metadata": {},
   "outputs": [],
   "source": [
    "from IPython.display import YouTubeVideo\n",
    "YouTubeVideo(\"l0Zc7jhEcLg\", 800, 500)"
   ]
  },
  {
   "cell_type": "markdown",
   "id": "4960a560-2771-4cb2-9b5a-755bda2e2e2a",
   "metadata": {},
   "source": [
    "### magic commands\n",
    "https://ipython.readthedocs.io/en/stable/interactive/magics.html"
   ]
  },
  {
   "cell_type": "code",
   "execution_count": null,
   "id": "d4fafc8a-7762-441a-8332-fcf0b64f6ef0",
   "metadata": {},
   "outputs": [],
   "source": [
    "n = 100000\n",
    "%time sum(range(n))\n",
    "%timeit sum(range(n))"
   ]
  },
  {
   "cell_type": "code",
   "execution_count": null,
   "id": "14401ca8-a23c-409d-be7b-c1a3c1a45848",
   "metadata": {
    "tags": []
   },
   "outputs": [],
   "source": [
    "%history -n 4-6"
   ]
  },
  {
   "cell_type": "code",
   "execution_count": null,
   "id": "eed6f72e-1a9d-45f7-8793-053beb68d07c",
   "metadata": {},
   "outputs": [],
   "source": [
    "%who\n",
    "%who_ls int"
   ]
  },
  {
   "cell_type": "markdown",
   "id": "c217f3eb-405d-45e7-a40a-c0578ff86bbb",
   "metadata": {},
   "source": [
    "### widgets"
   ]
  },
  {
   "cell_type": "code",
   "execution_count": 50,
   "id": "f850dff3-9837-4f06-9c0d-b5baebce83f4",
   "metadata": {},
   "outputs": [
    {
     "data": {
      "application/vnd.jupyter.widget-view+json": {
       "model_id": "6ed550d4010542fc89b9dcd18631c834",
       "version_major": 2,
       "version_minor": 0
      },
      "text/plain": [
       "IntSlider(value=0)"
      ]
     },
     "metadata": {},
     "output_type": "display_data"
    }
   ],
   "source": [
    "import ipywidgets as wdg\n",
    "w = wdg.IntSlider()\n",
    "w\n"
   ]
  },
  {
   "cell_type": "code",
   "execution_count": 51,
   "id": "540e5ac6-598e-4970-8b20-37723aa24066",
   "metadata": {},
   "outputs": [
    {
     "data": {
      "application/vnd.jupyter.widget-view+json": {
       "model_id": "30a2d36600054054a29b8b482ab79349",
       "version_major": 2,
       "version_minor": 0
      },
      "text/plain": [
       "DatePicker(value=None, description='Pick a Date')"
      ]
     },
     "metadata": {},
     "output_type": "display_data"
    }
   ],
   "source": [
    "wdg.DatePicker(\n",
    "    description='Pick a Date',\n",
    "    disabled=False\n",
    ")"
   ]
  },
  {
   "cell_type": "markdown",
   "id": "aa3cd55f-7725-470d-b863-25b5336f5420",
   "metadata": {},
   "source": [
    "### notebook galleries\n",
    "https://gist.github.com/ocoyawale/54d92fd4bf92508a2a6e482b5fa480fd#introductory-tutorials"
   ]
  }
 ],
 "metadata": {
  "kernelspec": {
   "display_name": "Python 3 (ipykernel)",
   "language": "python",
   "name": "python3"
  },
  "language_info": {
   "codemirror_mode": {
    "name": "ipython",
    "version": 3
   },
   "file_extension": ".py",
   "mimetype": "text/x-python",
   "name": "python",
   "nbconvert_exporter": "python",
   "pygments_lexer": "ipython3",
   "version": "3.7.11"
  },
  "toc-autonumbering": true,
  "toc-showmarkdowntxt": false
 },
 "nbformat": 4,
 "nbformat_minor": 5
}
