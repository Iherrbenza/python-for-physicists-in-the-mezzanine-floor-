{
 "cells": [
  {
   "cell_type": "markdown",
   "id": "1571ae73-4d49-4aed-9d48-6c7bf1c46499",
   "metadata": {},
   "source": [
    "<b style=\"font-size:45px;color:#2196F3;\">Introduction to python for pysicists in the mezzanine floor</b>  \n",
    "<b style=\"font-size:30px;color:#2196F3;\">notebook_1_basics</b>\n",
    "\n",
    "In this 2st notebook I'll try to give some tips for the core library of python\n",
    "\n",
    "Ivan Herrera Benzaquen"
   ]
  },
  {
   "cell_type": "markdown",
   "id": "93a8314d-caa3-4728-953f-6c060ea1b5cb",
   "metadata": {
    "tags": []
   },
   "source": [
    "# Basic Python"
   ]
  },
  {
   "cell_type": "markdown",
   "id": "18224145-467f-4764-b8db-b30f9ce67072",
   "metadata": {},
   "source": [
    "## Data types"
   ]
  },
  {
   "cell_type": "markdown",
   "id": "da11ed88-171f-4c07-bcf3-bd4950ce688c",
   "metadata": {},
   "source": [
    "variable assignments rules \n",
    "start with a letter\n",
    "\n",
    "do not use python keywords:\n",
    "```python\n",
    "and, as, assert, break, class, continue, def, del, elif, else, except, \n",
    "exec, finally, for, from, global, if, import, in, is, lambda, not, or,\n",
    "pass, print, raise, return, try, while, with, yield\n",
    "```"
   ]
  },
  {
   "cell_type": "code",
   "execution_count": null,
   "id": "ddf7c2f1-7e25-4c03-bd19-349fa2ed34d4",
   "metadata": {},
   "outputs": [],
   "source": [
    "x = 1.0\n",
    "type(x)\n",
    "\n",
    "z = complex(x)\n",
    "print(z, type(z))"
   ]
  },
  {
   "cell_type": "code",
   "execution_count": null,
   "id": "b7b4f195-878b-4989-ab22-9d32d3a4c13b",
   "metadata": {},
   "outputs": [],
   "source": [
    "import types\n",
    "# print all types defined in the `types` module\n",
    "print(dir(types))"
   ]
  },
  {
   "cell_type": "markdown",
   "id": "bf1c811a-a001-418e-bc91-3d8026190fb8",
   "metadata": {},
   "source": [
    "## Operations\n",
    "Most operators and comparisons in Python work as one would expect:\n",
    "\n",
    "* Arithmetic operators `+`, `-`, `*`, `/`, `//` (integer division), `%`  (division rest) `**` power\n",
    "* The boolean operators are spelled out as the words `and`, `not`, `or`. \n",
    "* Comparison operators `>`, `<`, `>=` (greater or equal), `<=` (less or equal), `==` equality, `is` identical.\n",
    "* `in` comparison for strings and lists"
   ]
  },
  {
   "cell_type": "code",
   "execution_count": 53,
   "id": "b0727daf-c916-482f-8164-208fbffb176b",
   "metadata": {},
   "outputs": [
    {
     "name": "stdout",
     "output_type": "stream",
     "text": [
      "True\n",
      "True\n"
     ]
    }
   ],
   "source": [
    "phrase = \"python_core 3.5.2\"\n",
    "print(\"python\" in phrase)\n",
    "# this is because a string share  propierties from compound objects as the list (iterables)\n",
    "l = [1, 32, \"python\", \"mezzanine\"]\n",
    "print(\"python\" in l)"
   ]
  },
  {
   "cell_type": "markdown",
   "id": "23314aa7-b5fc-4bfd-b6eb-77cd1418e79f",
   "metadata": {
    "tags": []
   },
   "source": [
    "###variables and objects"
   ]
  },
  {
   "cell_type": "code",
   "execution_count": 5,
   "id": "7dd505c5-bc3e-4f7e-9fae-05b3a782e51e",
   "metadata": {
    "collapsed": false,
    "jupyter": {
     "outputs_hidden": false
    }
   },
   "outputs": [
    {
     "name": "stdout",
     "output_type": "stream",
     "text": [
      "True\n",
      "True\n"
     ]
    }
   ],
   "source": [
    "# objects identical?\n",
    "# 2 variables pointing to the same object\n",
    "l1 = l2 = [1, 2, 3, 4, 5]\n",
    "print(l2 == l1)\n",
    "print(l1 is l2)"
   ]
  },
  {
   "cell_type": "code",
   "execution_count": 6,
   "id": "97d4ee09-dc81-45e1-85b5-c767743f04f8",
   "metadata": {},
   "outputs": [
    {
     "name": "stdout",
     "output_type": "stream",
     "text": [
      "True\n",
      "False\n"
     ]
    }
   ],
   "source": [
    "# 2 variables and 2 objects\n",
    "l3 = l1.copy()\n",
    "print(l3 == l1)\n",
    "print(l3 is l1)"
   ]
  },
  {
   "cell_type": "code",
   "execution_count": 9,
   "id": "3763abae-1c03-45a9-b6eb-905cc7b0b1c7",
   "metadata": {},
   "outputs": [
    {
     "name": "stdout",
     "output_type": "stream",
     "text": [
      "[1, 'to change', 3, 4, 5]\n",
      "[1, 2, 3, 4, 5]\n"
     ]
    }
   ],
   "source": [
    "# both copies works different\n",
    "l2[1] = \"to change\"\n",
    "print(l1)\n",
    "print(l3)"
   ]
  },
  {
   "cell_type": "code",
   "execution_count": 11,
   "id": "7e1a2b58-d6ca-48f1-a8da-60c0442dd8cf",
   "metadata": {},
   "outputs": [
    {
     "name": "stdout",
     "output_type": "stream",
     "text": [
      "False\n"
     ]
    }
   ],
   "source": [
    "# other way to copy data with pointing to the same object\n",
    "# is to modify\n",
    "l4  = 1*l1\n",
    "print(l4 is l1)"
   ]
  },
  {
   "cell_type": "code",
   "execution_count": 12,
   "id": "d9b0d414-9020-4b5a-8310-a3d249310417",
   "metadata": {},
   "outputs": [
    {
     "name": "stdout",
     "output_type": "stream",
     "text": [
      "l1 address 2438433144328\n",
      "l2 address 2438433144328\n",
      "l3 address 2438433144776\n"
     ]
    }
   ],
   "source": [
    "# id() give the address of the variable\n",
    "print('l1 address',id(l1))\n",
    "print('l2 address',id(l2))\n",
    "print('l3 address',id(l3))"
   ]
  },
  {
   "cell_type": "code",
   "execution_count": 66,
   "id": "19b2d330-2c0e-4968-9c31-f7c61e598657",
   "metadata": {},
   "outputs": [
    {
     "name": "stdout",
     "output_type": "stream",
     "text": [
      "[1, 2, 3, 42]\n",
      "[1, 2, 3, 42]\n"
     ]
    }
   ],
   "source": [
    "# this can happend with functions\n",
    "x = [1, 2, 3]\n",
    "y = x\n",
    "\n",
    "def append_42(input_list):\n",
    "    input_list.append(42)\n",
    "    return input_list\n",
    "\n",
    "append_42(x)\n",
    "print(x)\n",
    "print(y)"
   ]
  },
  {
   "cell_type": "markdown",
   "id": "fd4ddc8d-1bf2-427d-9e3e-96a3e5c0c223",
   "metadata": {},
   "source": [
    "## Compound objects"
   ]
  },
  {
   "cell_type": "markdown",
   "id": "7f85ce0a-e108-43cc-89c1-a86b7c664bad",
   "metadata": {
    "tags": []
   },
   "source": [
    "### strings and dictionaries"
   ]
  },
  {
   "cell_type": "code",
   "execution_count": 55,
   "id": "fae2535b-9cda-4025-938f-1440bcea3dfc",
   "metadata": {},
   "outputs": [
    {
     "name": "stdout",
     "output_type": "stream",
     "text": [
      "Hello test\n",
      "['Hello', 'world']\n",
      "H\n",
      "index starts at 0!\n",
      "dlrow olleH  revert\n"
     ]
    }
   ],
   "source": [
    "s = \"Hello world\"\n",
    "type(s)\n",
    "\n",
    "# length of the string: the number of characters\n",
    "len(s)\n",
    "\n",
    "# replace a substring in a string with something else\n",
    "s2 = s.replace(\"world\", \"test\")\n",
    "print(s2)\n",
    "\n",
    "# split in substrings with a key\n",
    "s3 = s.split(\" \")\n",
    "\n",
    "print(s3)\n",
    "print(s[0]) \n",
    "print('index starts at 0!')\n",
    "print(s[::-1], \" revert\")"
   ]
  },
  {
   "cell_type": "code",
   "execution_count": 59,
   "id": "f0880110-41ae-4040-a706-27ebc9388d11",
   "metadata": {},
   "outputs": [
    {
     "name": "stdout",
     "output_type": "stream",
     "text": [
      "str1 str2 str3\n",
      "str1 1.0 False (-0-1j)\n",
      "str1str2str3\n",
      "the number of cells was 2\n",
      "the number of cells was 2.00E+00\n"
     ]
    }
   ],
   "source": [
    "# print and format\n",
    "print(\"str1\", \"str2\", \"str3\")  # The print statement concatenates strings with a space\n",
    "print(\"str1\", 1.0, False, -1j)  # The print statements converts all arguments to strings\n",
    "print(\"str1\" + \"str2\" + \"str3\") # strings added with + are concatenated without space\n",
    "\n",
    "i = 2\n",
    "s = \"cells\"\n",
    "a = f\"the number of {s} was {i}\"\n",
    "print(a)\n",
    "\n",
    "a = \"the number of {} was {:.2E}\".format(s, i)\n",
    "print(a)"
   ]
  },
  {
   "cell_type": "code",
   "execution_count": null,
   "id": "f5e0e7d3-9d55-4c3f-91f5-8aaf3dffafa2",
   "metadata": {},
   "outputs": [],
   "source": [
    "# Dictionaries are also like lists, except that each element is a key-value pair.\n",
    "# The syntax for dictionaries is `{key1 : value1, ...}`:\n",
    "params = {\"parameter1\" : 1.0,\n",
    "          \"parameter2\" : 2.0,\n",
    "          \"parameter3\" : 3.0,}\n",
    "\n",
    "print(type(params))\n",
    "print(params)"
   ]
  },
  {
   "cell_type": "markdown",
   "id": "3835b6c6-9a4c-4deb-93e9-7d943b775a6e",
   "metadata": {},
   "source": [
    "### list and generators"
   ]
  },
  {
   "cell_type": "code",
   "execution_count": null,
   "id": "f4076c78-5743-451a-a6a7-07cd3d6a9b6c",
   "metadata": {},
   "outputs": [],
   "source": [
    "l = [0, 1, 2, 3] #  this is a list\n",
    "print(l, type(l))"
   ]
  },
  {
   "cell_type": "code",
   "execution_count": null,
   "id": "5056c933-ee13-4403-a320-66d1df634929",
   "metadata": {},
   "outputs": [],
   "source": [
    "g = range(3)     # this is a generator\n",
    "print(g, type(g))\n",
    "list(range(3)) # we can cast it"
   ]
  },
  {
   "cell_type": "code",
   "execution_count": 60,
   "id": "3b58c4f0-8676-493d-9c52-d9591d0cf45f",
   "metadata": {},
   "outputs": [
    {
     "data": {
      "text/plain": [
       "[1, [2, [3, [4, [5]]]]]"
      ]
     },
     "execution_count": 60,
     "metadata": {},
     "output_type": "execute_result"
    }
   ],
   "source": [
    "nested_list = [1, [2, [3, [4, [5]]]]]\n",
    "\n",
    "nested_list"
   ]
  },
  {
   "cell_type": "code",
   "execution_count": 64,
   "id": "eb361b5f-1477-4f74-99f7-0fd81a7f1d5d",
   "metadata": {},
   "outputs": [
    {
     "name": "stdout",
     "output_type": "stream",
     "text": [
      "[0, 1, 2, 3, 4]\n",
      "['a', 'e', 'e', 'i', 'm', 'n', 'n', 'z', 'z']\n"
     ]
    }
   ],
   "source": [
    "# sorting lists\n",
    "s1 = list(range(5))\n",
    "s1 = s1[::-1]\n",
    "s2 = list(\"mezzanine\")\n",
    "s1.sort()\n",
    "s2.sort()\n",
    "print(s1)\n",
    "print(s2)"
   ]
  },
  {
   "cell_type": "code",
   "execution_count": 65,
   "id": "d8a57b87-acfd-4fdb-8952-7cfd302ec19a",
   "metadata": {},
   "outputs": [
    {
     "name": "stdout",
     "output_type": "stream",
     "text": [
      "['A', 'd', 'd']\n"
     ]
    }
   ],
   "source": [
    "# create a new empty list\n",
    "l = []\n",
    "\n",
    "# add an elements using `append`\n",
    "l.append(\"A\")\n",
    "l.append(\"d\")\n",
    "l.append(\"d\")\n",
    "\n",
    "print(l)"
   ]
  },
  {
   "cell_type": "code",
   "execution_count": null,
   "id": "c37c2ba6-76c8-48f1-8e23-b988acab2c4e",
   "metadata": {},
   "outputs": [],
   "source": [
    "#insertions and remove\n",
    "l[1] = \"p\"\n",
    "l[2] = \"p\"\n",
    "\n",
    "l[1:3] = [\"d\", \"d\"]\n",
    "\n",
    "print(l)\n",
    "\n",
    "print(l)\n",
    "l.insert(0, \"i\")\n",
    "l.insert(1, \"n\")\n",
    "l.insert(2, \"s\")\n",
    "l.insert(3, \"e\")\n",
    "l.insert(4, \"r\")\n",
    "l.insert(5, \"t\")\n",
    "\n",
    "print(l)\n",
    "\n",
    "l.remove(\"A\")\n",
    "\n",
    "print(l)"
   ]
  },
  {
   "cell_type": "markdown",
   "id": "fc40a643-f12e-43ff-a1d4-56180783c49f",
   "metadata": {},
   "source": [
    "## Iterations and flow"
   ]
  },
  {
   "cell_type": "markdown",
   "id": "1d9898d9-f0df-46a8-ad43-7051d126ca77",
   "metadata": {},
   "source": [
    "### itertools, your best friend"
   ]
  },
  {
   "cell_type": "code",
   "execution_count": null,
   "id": "491f18d3-305c-4fb7-be9e-36e2d2a177ff",
   "metadata": {},
   "outputs": [],
   "source": [
    "pll = list(enumerate([\"A\", \"B\", \"C\"]))\n",
    "print(pll)\n",
    "\n",
    "pll = list(zip([\"A\", \"B\", \"C\"], [\"a\", \"b\", \"c\"]))\n",
    "print(pll)\n",
    "\n",
    "import itertools\n",
    "prd = list( itertools.product(\"ABC\",  repeat=2) )\n",
    "print(\"product \", prd)\n",
    "per = list( itertools.permutations(\"ABC\",  2) )\n",
    "print(\"permutations \", per)\n",
    "comb = list( itertools.combinations(\"ABC\", 2) )\n",
    "print(\"combinations \", comb)"
   ]
  },
  {
   "cell_type": "markdown",
   "id": "16044dee-2332-4522-a183-a25273b793ad",
   "metadata": {},
   "source": [
    "### list comprehesions"
   ]
  },
  {
   "cell_type": "code",
   "execution_count": null,
   "id": "a3f5d3b0-5563-4b7a-a71a-f6540f71ebbc",
   "metadata": {},
   "outputs": [],
   "source": [
    "mylist = []\n",
    "for x in range(5):\n",
    "    mylist.append(x*x)\n",
    "\n",
    "# list comprehesion form\n",
    "mylist = [x*x for x in range(5)]\n",
    "\n",
    "# list comprehesions with conditionals\n",
    "mylist = [x*x for x in range(5) if x%2 == 0]\n",
    "\n",
    "mylist = [x*x if x%2 == 0 else 0 for x in range(5)]\n",
    "\n",
    "print(mylist)"
   ]
  },
  {
   "cell_type": "markdown",
   "id": "5c7d563c-9140-4665-a0f9-f1591ebbfd36",
   "metadata": {},
   "source": [
    "### Functions and docstrings"
   ]
  },
  {
   "cell_type": "code",
   "execution_count": null,
   "id": "cfef2fba-d991-433a-a290-dd6fa9c6e139",
   "metadata": {
    "tags": []
   },
   "outputs": [],
   "source": [
    "import numpy as np\n",
    "# help(np.arange)"
   ]
  },
  {
   "cell_type": "code",
   "execution_count": null,
   "id": "070f279e-e528-4d71-9f80-bbdad9d508e6",
   "metadata": {},
   "outputs": [],
   "source": [
    "def my_fun(*argv, **kwargs):\n",
    "    #this is a docstring\n",
    "    \"\"\"\n",
    "    description:\n",
    "    parameters:\n",
    "    return:\n",
    "    comments:\n",
    "    \"\"\"\n",
    "    \n",
    "    # do whathever\n",
    "    return()\n",
    "\n",
    "def my_fun(*argv):\n",
    "    for arg in argv:\n",
    "        print (arg)\n",
    "   \n",
    "my_fun('Hello', 'Welcome', 'to', 'python')\n",
    "      \n",
    "def my_fun(arg1, **kwargs):\n",
    "    for key, value in kwargs.items():\n",
    "        print (\"%s == %s\" %(key, value))\n",
    " \n",
    "my_fun(\"Hi\", first ='python', mid ='for', last='physcists')   \n",
    "\n",
    "def my_fun(*args,**kwargs):\n",
    "    print(\"args: \", args)\n",
    "    print(\"kwargs: \", kwargs)\n",
    " \n",
    "my_fun('python','for','physcists',first=\"numpy\",mid=\"matplotlib\",last=\"Scypy\")"
   ]
  },
  {
   "cell_type": "markdown",
   "id": "1eb296c9-8d5b-4370-a708-aeb6142f3ce2",
   "metadata": {},
   "source": [
    "## Directories and Files"
   ]
  },
  {
   "cell_type": "code",
   "execution_count": null,
   "id": "d2d68204-f261-43d5-80ab-a711da2717a6",
   "metadata": {},
   "outputs": [],
   "source": [
    "import os\n",
    "# get the actual current working directory\n",
    "cwd = os.getcwd()\n",
    "print(cwd)\n",
    "\n",
    "# import platform\n",
    "# platform.system()"
   ]
  },
  {
   "cell_type": "code",
   "execution_count": null,
   "id": "8c29aa49-da89-4153-9f99-82bd1c6d022a",
   "metadata": {
    "tags": []
   },
   "outputs": [],
   "source": [
    "#create a new directory\n",
    "course_dir = cwd \n",
    "data_dir = course_dir + \"\\data\"\n",
    "os.mkdir(data_dir)\n",
    "\n",
    "if not os.path.exists(data_dir):\n",
    "    os.mkdir(data_dir)"
   ]
  },
  {
   "cell_type": "code",
   "execution_count": null,
   "id": "5dd6b1c8-a570-40c4-91c2-722ca8c9ff53",
   "metadata": {},
   "outputs": [],
   "source": [
    "# collecting files \n",
    "import glob\n",
    "glob.glob(course_dir + \"\\\\*\\\\*.py\", recursive=True)"
   ]
  },
  {
   "cell_type": "code",
   "execution_count": null,
   "id": "edfc5038-b956-432d-b29a-76f79e5f2ae7",
   "metadata": {},
   "outputs": [],
   "source": [
    "# download file\n",
    "import requests\n",
    "# cheat sheet for jupyter\n",
    "url_jn_cheatsheet = \"https://www.anaconda.com/wp-content/uploads/2019/03/11-2018-JupyterLab-Notebook-Cheatsheet.pdf\"\n",
    "\n",
    "# URL of the image to be downloaded is defined as image_url\n",
    "r = requests.get(url_jn_cheatsheet) # create HTTP response object\n",
    "# the HTTP response in a response object called r\n",
    "with open(data_dir + \"\\JN_cheatsheet.pdf\",'wb') as f:\n",
    "    # write the contents of the response (r.content)\n",
    "    # to a new file in binary mode.\n",
    "    f.write(r.content)"
   ]
  },
  {
   "cell_type": "markdown",
   "id": "fef1e3c3-d2ae-4fae-8b1a-85916bb6823e",
   "metadata": {},
   "source": [
    "## Exceptions and context managers"
   ]
  },
  {
   "cell_type": "code",
   "execution_count": null,
   "id": "67fb6b6e-8775-493c-be99-47b1d8fecbb2",
   "metadata": {},
   "outputs": [],
   "source": [
    "def divide(x, y):\n",
    "    try:\n",
    "        result = x / y   \n",
    "    except ZeroDivisionError:\n",
    "        print(\"division by zero!\")\n",
    "    else:\n",
    "         print(\"result is\", result)\n",
    "    finally:\n",
    "         print(\"executing finally clause\")\n",
    "\n",
    "divide(2, 0)"
   ]
  },
  {
   "cell_type": "code",
   "execution_count": null,
   "id": "8bb08575-6ac9-484f-8e83-eb426d18cdb4",
   "metadata": {},
   "outputs": [],
   "source": [
    "x, y = 1, 2\n",
    "file = open(data_dir + \"\\hello.txt\", \"a\")\n",
    "file.write(f\"Hello, World!\\nThe division is {x/y}\")\n",
    "file.close()"
   ]
  },
  {
   "cell_type": "code",
   "execution_count": null,
   "id": "542970de-3a21-4111-a220-278f2a2f7444",
   "metadata": {
    "tags": []
   },
   "outputs": [],
   "source": [
    "x, y = 1, 2\n",
    "# context manager\n",
    "with open(data_dir + \"\\hello.txt\", \"a\") as f:\n",
    "    f.write(f\"Hello, World!\\nThe division is {x/y}\")"
   ]
  },
  {
   "cell_type": "code",
   "execution_count": null,
   "id": "2610189e-34d6-4e24-8304-e114802b951d",
   "metadata": {},
   "outputs": [],
   "source": [
    "import numpy as np\n",
    "import matplotlib.pyplot as plt\n",
    "import cv2\n",
    "\n",
    "# init an capture object linked to the camera\n",
    "cap = cv2.VideoCapture(0)\n",
    "# Capture frame\n",
    "ret, frame = cap.read()\n",
    "cv2.VideoCapture(0).release()"
   ]
  },
  {
   "cell_type": "code",
   "execution_count": null,
   "id": "24bf33ad-facc-4f1d-acfc-a7478a39619a",
   "metadata": {},
   "outputs": [],
   "source": [
    "plt.imshow(frame)"
   ]
  },
  {
   "cell_type": "code",
   "execution_count": null,
   "id": "de1762cb-ba7a-4585-b1d2-45ed5ae37482",
   "metadata": {},
   "outputs": [],
   "source": [
    "frame.shape"
   ]
  },
  {
   "cell_type": "code",
   "execution_count": null,
   "id": "b6e4b47c-7c7f-4876-9543-54ec1cc82501",
   "metadata": {},
   "outputs": [],
   "source": [
    "cv2.VideoCapture(0).release()\n",
    "cv2.VideoCapture(0).isOpened()"
   ]
  },
  {
   "cell_type": "code",
   "execution_count": null,
   "id": "75af1223-ff79-4a41-b36e-9474a8025dc4",
   "metadata": {},
   "outputs": [],
   "source": [
    "help(cv2.VideoCapture(0))"
   ]
  },
  {
   "cell_type": "raw",
   "id": "23b8b794-d8d8-458d-add7-43cec5db2695",
   "metadata": {},
   "source": [
    "[Previous](0_Python_in_the_mezzanine.ipynb)  \n",
    "[Next](2_Python_in_the_mezzanine.ipynb)"
   ]
  }
 ],
 "metadata": {
  "kernelspec": {
   "display_name": "Python 3 (ipykernel)",
   "language": "python",
   "name": "python3"
  },
  "language_info": {
   "codemirror_mode": {
    "name": "ipython",
    "version": 3
   },
   "file_extension": ".py",
   "mimetype": "text/x-python",
   "name": "python",
   "nbconvert_exporter": "python",
   "pygments_lexer": "ipython3",
   "version": "3.7.11"
  },
  "toc-autonumbering": true,
  "toc-showmarkdowntxt": false
 },
 "nbformat": 4,
 "nbformat_minor": 5
}
