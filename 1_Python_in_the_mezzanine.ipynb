{
 "cells": [
  {
   "cell_type": "markdown",
   "id": "1571ae73-4d49-4aed-9d48-6c7bf1c46499",
   "metadata": {},
   "source": [
    "<b style=\"font-size:45px;color:#2196F3;\">Introduction to python for pysicists in the mezzanine floor</b>  \n",
    "<b style=\"font-size:30px;color:#2196F3;\">notebook_1_basics</b>\n",
    "\n",
    "Ivan Herrera Benzaquen\n",
    "\n",
    "In this 2st notebook I'll try to give some tips for a very basic python.  \n",
    "I'll try to cover things like:\n",
    "* Data types\n",
    "* Operations \n",
    "* Compound objects \n",
    "* Flow structures\n",
    "* extra useful things\n",
    "\n",
    "The notebooks in this series are at https://github.com/Iherrbenza/python-for-physicists-in-the-mezzanine-floor-."
   ]
  },
  {
   "cell_type": "markdown",
   "id": "93a8314d-caa3-4728-953f-6c060ea1b5cb",
   "metadata": {
    "tags": []
   },
   "source": [
    "# Basic Python"
   ]
  },
  {
   "cell_type": "markdown",
   "id": "18224145-467f-4764-b8db-b30f9ce67072",
   "metadata": {},
   "source": [
    "## Data types"
   ]
  },
  {
   "cell_type": "markdown",
   "id": "da11ed88-171f-4c07-bcf3-bd4950ce688c",
   "metadata": {},
   "source": [
    "Variable assignments rules \n",
    "* start with a letter\n",
    "\n",
    "* do not use python keywords:\n",
    "```python\n",
    "and, as, assert, break, class, continue, def, del, elif, else, except, \n",
    "exec, finally, for, from, global, if, import, in, is, lambda, not, or,\n",
    "pass, print, raise, return, try, while, with, yield\n",
    "```"
   ]
  },
  {
   "cell_type": "code",
   "execution_count": null,
   "id": "ddf7c2f1-7e25-4c03-bd19-349fa2ed34d4",
   "metadata": {},
   "outputs": [],
   "source": [
    "x = 1.0\n",
    "print(x, type(x))\n",
    "\n",
    "z = complex(x)\n",
    "print(z, type(z))\n",
    "\n",
    "flag =True\n",
    "print(flag, type(flag))"
   ]
  },
  {
   "cell_type": "code",
   "execution_count": null,
   "id": "b7b4f195-878b-4989-ab22-9d32d3a4c13b",
   "metadata": {},
   "outputs": [],
   "source": [
    "import types\n",
    "# print all types defined in the `types` module\n",
    "print(dir(types))"
   ]
  },
  {
   "cell_type": "code",
   "execution_count": null,
   "id": "df48ce2d-e3ef-4108-aaf6-4d1fd0fb80a8",
   "metadata": {},
   "outputs": [],
   "source": [
    "# casting to a different type\n",
    "print(type(str(76)))\n",
    "print(type(int('76')))\n",
    "print(type(float('76')))"
   ]
  },
  {
   "cell_type": "markdown",
   "id": "bf1c811a-a001-418e-bc91-3d8026190fb8",
   "metadata": {},
   "source": [
    "## Operations\n",
    "Most operators and comparisons in Python work as one would expect:\n",
    "\n",
    "* Arithmetic operators `+`, `-`, `*`, `/`, `//` (integer division), `%`  (division rest) `**` power\n",
    "* The boolean operators are spelled out as the words `and`, `not`, `or`. \n",
    "* Comparison operators `>`, `<`, `>=` (greater or equal), `<=` (less or equal), `==` equality, `is` identical.\n",
    "* `in` comparison for strings and lists"
   ]
  },
  {
   "cell_type": "code",
   "execution_count": null,
   "id": "7a3f56ed-d334-4b68-8897-1ae59616b045",
   "metadata": {},
   "outputs": [],
   "source": [
    "# %\n",
    "\n",
    "for n in range(10): \n",
    "    if n%5 == 0: print(n)"
   ]
  },
  {
   "cell_type": "code",
   "execution_count": null,
   "id": "53122196-4d3b-4932-a490-390681f9c0e7",
   "metadata": {},
   "outputs": [],
   "source": [
    "# the way to compare string in python is with 'in' not '=='\n",
    "\n",
    "l = \"python_core 3.5.2\"\n",
    "print(\"python\" in l)"
   ]
  },
  {
   "cell_type": "code",
   "execution_count": null,
   "id": "5fd0938c-bf4f-4f0f-8a6d-815f984cf861",
   "metadata": {},
   "outputs": [],
   "source": [
    "# this is because a string share  propierties from compound objects \n",
    "\n",
    "# as a list (iterables)\n",
    "l = [1, 32, \"python\", \"mezzanine\"]\n",
    "print(\"python\" in l)"
   ]
  },
  {
   "cell_type": "markdown",
   "id": "23314aa7-b5fc-4bfd-b6eb-77cd1418e79f",
   "metadata": {
    "tags": []
   },
   "source": [
    "### variables and objects"
   ]
  },
  {
   "cell_type": "code",
   "execution_count": null,
   "id": "7dd505c5-bc3e-4f7e-9fae-05b3a782e51e",
   "metadata": {
    "collapsed": false,
    "jupyter": {
     "outputs_hidden": false
    }
   },
   "outputs": [],
   "source": [
    "# objects identical?\n",
    "\n",
    "# 2 variables pointing to the same object\n",
    "l1 = l2 = [1, 2, 3, 4, 5]\n",
    "print(l2 == l1)\n",
    "print(l1 is l2)"
   ]
  },
  {
   "cell_type": "code",
   "execution_count": null,
   "id": "97d4ee09-dc81-45e1-85b5-c767743f04f8",
   "metadata": {},
   "outputs": [],
   "source": [
    "# 2 variables and 2 objects\n",
    "\n",
    "l3 = l1.copy()\n",
    "print(l3 == l1)\n",
    "print(l3 is l1)"
   ]
  },
  {
   "cell_type": "code",
   "execution_count": null,
   "id": "3763abae-1c03-45a9-b6eb-905cc7b0b1c7",
   "metadata": {},
   "outputs": [],
   "source": [
    "# both copies works different\n",
    "\n",
    "l2[1] = \"to change\"\n",
    "print(l1)\n",
    "print(l3)"
   ]
  },
  {
   "cell_type": "code",
   "execution_count": null,
   "id": "7e1a2b58-d6ca-48f1-a8da-60c0442dd8cf",
   "metadata": {},
   "outputs": [],
   "source": [
    "# other way to copy data with pointing to the same object\n",
    "# is to modify it\n",
    "\n",
    "l4  = 1*l1\n",
    "print(l4 is l1)"
   ]
  },
  {
   "cell_type": "code",
   "execution_count": null,
   "id": "d9b0d414-9020-4b5a-8310-a3d249310417",
   "metadata": {},
   "outputs": [],
   "source": [
    "# id() give the address of the variable\n",
    "\n",
    "print('l1 address',id(l1))\n",
    "print('l2 address',id(l2))\n",
    "print('l3 address',id(l3))"
   ]
  },
  {
   "cell_type": "code",
   "execution_count": null,
   "id": "19b2d330-2c0e-4968-9c31-f7c61e598657",
   "metadata": {},
   "outputs": [],
   "source": [
    "# this can happend with functions\n",
    "\n",
    "x = [1, 2, 3]\n",
    "y = x\n",
    "\n",
    "def append_42(input_list):\n",
    "    input_list.append(42)\n",
    "    return input_list\n",
    "\n",
    "append_42(x)\n",
    "print(x)\n",
    "print(y)"
   ]
  },
  {
   "cell_type": "code",
   "execution_count": null,
   "id": "675c6139-a7ac-4644-a8c8-c07b5ec4ec36",
   "metadata": {},
   "outputs": [],
   "source": [
    "# variable outside function\n",
    "\n",
    "x = \"bonito\"\n",
    "\n",
    "def myfunc():\n",
    "  print(\"Hawthorn is \" + x)\n",
    "\n",
    "myfunc()"
   ]
  },
  {
   "cell_type": "code",
   "execution_count": null,
   "id": "5b1b2e97-213b-42ca-a640-69445c2e41a8",
   "metadata": {},
   "outputs": [],
   "source": [
    "# variables are local if we don't define it\n",
    "\n",
    "x = \"bonito\"\n",
    "\n",
    "def myfunc():\n",
    "    \n",
    "    x = \"fantastico\"\n",
    "    print(\"Hawthorn is \" + x)\n",
    "\n",
    "myfunc()\n",
    "\n",
    "print(\"Hawthorn is \" + x)"
   ]
  },
  {
   "cell_type": "code",
   "execution_count": null,
   "id": "13235a5e-21b8-4017-a783-3f46bcb44fa6",
   "metadata": {},
   "outputs": [],
   "source": [
    "# using global tag we can use the global var inside a function\n",
    "\n",
    "x = \"bonito\"\n",
    "\n",
    "def myfunc():\n",
    "    global x\n",
    "    x = \"fantastico\"\n",
    "\n",
    "myfunc()\n",
    "\n",
    "print(\"Hawthorn is \" + x)"
   ]
  },
  {
   "cell_type": "code",
   "execution_count": null,
   "id": "675eaacf-7d24-4f70-8120-831b0a089922",
   "metadata": {},
   "outputs": [],
   "source": [
    "# A variable is only available from inside the region it is created. This is called scope\n",
    "# this is good, we can use same variable names inside a function\n",
    "\n",
    "def print_greeting(s):\n",
    "    s = \"Buenos dias \" + s\n",
    "    print(s)\n",
    "\n",
    "s = \"Carlos \"\n",
    "print_greeting(s)\n",
    "print(s)"
   ]
  },
  {
   "cell_type": "markdown",
   "id": "fd4ddc8d-1bf2-427d-9e3e-96a3e5c0c223",
   "metadata": {},
   "source": [
    "## Compound objects"
   ]
  },
  {
   "cell_type": "markdown",
   "id": "7f85ce0a-e108-43cc-89c1-a86b7c664bad",
   "metadata": {
    "tags": []
   },
   "source": [
    "### strings"
   ]
  },
  {
   "cell_type": "code",
   "execution_count": null,
   "id": "054b517e-b41c-4c74-9f01-780241f2de0e",
   "metadata": {},
   "outputs": [],
   "source": [
    "s = \"Hello world\"\n",
    "type(s)\n",
    "\n",
    "# length of the string: the number of characters\n",
    "len(s)\n",
    "\n",
    "# replace a substring in a string with something else\n",
    "s2 = s.replace(\"world\", \"test\")\n",
    "print(s2)\n",
    "\n",
    "# split in substrings with a key\n",
    "s3 = s.split(\" \")\n",
    "print(s3)\n",
    "\n",
    "# join in substrings with a key\n",
    "s3 = \"/\".join(s3)\n",
    "print(s3)"
   ]
  },
  {
   "cell_type": "code",
   "execution_count": null,
   "id": "5350019e-2cef-421f-bea8-2b3cdac8a41a",
   "metadata": {},
   "outputs": [],
   "source": [
    "# slicing\n",
    "\n",
    "print('index starts at 0!')\n",
    "print(s[0]) \n",
    "\n",
    "print(\"chop a slice\")\n",
    "print(s[0:5])\n",
    "\n",
    "print(\"from or until\")\n",
    "print(s[6:])\n",
    "\n",
    "print(\"slice by step\")\n",
    "s[::1]"
   ]
  },
  {
   "cell_type": "markdown",
   "id": "d5d26c55-aecb-4687-a44a-e51bcf7412c4",
   "metadata": {},
   "source": [
    "the syntax `[start:end:step]`"
   ]
  },
  {
   "cell_type": "code",
   "execution_count": null,
   "id": "d10802a5-9e8d-4100-8d34-7d85c92f0d42",
   "metadata": {},
   "outputs": [],
   "source": [
    "# easy revert a list\n",
    "\n",
    "print(s[::-1], \" revert\")"
   ]
  },
  {
   "cell_type": "code",
   "execution_count": null,
   "id": "c23fc4d4-f0b4-4eb3-b79b-de5160de57b6",
   "metadata": {},
   "outputs": [],
   "source": [
    "# print and format \n",
    "\n",
    "print(\"str1\", \"str2\", \"str3\")   # The print statement concatenates strings with a space\n",
    "print(\"str1\", 1.0, False, -1j)  # The print statements converts all arguments to strings\n",
    "print(\"str1\" + \"str2\" + \"str3\") # strings added with + are concatenated without space"
   ]
  },
  {
   "cell_type": "code",
   "execution_count": null,
   "id": "281c8a20-3c5b-4fb8-80a3-00356f95e5e8",
   "metadata": {},
   "outputs": [],
   "source": [
    "# we can set the printing format, usefull when we deal \n",
    "# with large numbers or large number of decimals\n",
    "\n",
    "i = 2\n",
    "s = \"cells\"\n",
    "a = f\"the number of {s} was {i}\"\n",
    "print(a)\n",
    "\n",
    "a = \"the number of {} was {:.2E}\".format(s, i)\n",
    "print(a)"
   ]
  },
  {
   "cell_type": "markdown",
   "id": "b6697e76-b634-48a9-b68a-aa2a36c8f776",
   "metadata": {
    "tags": []
   },
   "source": [
    "### dictionaries"
   ]
  },
  {
   "cell_type": "code",
   "execution_count": null,
   "id": "f5e0e7d3-9d55-4c3f-91f5-8aaf3dffafa2",
   "metadata": {},
   "outputs": [],
   "source": [
    "# Dictionaries are also like lists, except that each element is a key-value pair.\n",
    "# The syntax for dictionaries is `{key1 : value1, ...}`:\n",
    "\n",
    "params = {\"parameter1\" : 1.0,\n",
    "          \"parameter2\" : [\"uno\", \"dos\", \"tres\"],\n",
    "          \"parameter3\" : [1, 2, 3],}\n",
    "\n",
    "print(type(params))\n",
    "print(params)\n",
    "\n",
    "# we can access columns\n",
    "print(params[\"parameter3\"])\n",
    "\n",
    "# we can access the keys\n",
    "print(params.keys())"
   ]
  },
  {
   "cell_type": "markdown",
   "id": "e4b6c30a-02db-4d77-9761-f4890c505331",
   "metadata": {
    "tags": []
   },
   "source": [
    "### tuples\n",
    "Tuples are used to store multiple items in a single variable.  \n",
    "Tuple items are ordered, unchangeable, and allow duplicate values. As well they can contain different types.  \n",
    "Tuple items are indexed, the first item has index [0], the second item has index [1] etc"
   ]
  },
  {
   "cell_type": "code",
   "execution_count": null,
   "id": "1c9653c1-1a5e-475e-9917-bf87c1390a54",
   "metadata": {},
   "outputs": [],
   "source": [
    "point = (10, 20)\n",
    "\n",
    "print(point, type(point))"
   ]
  },
  {
   "cell_type": "code",
   "execution_count": null,
   "id": "501ff48f-4b65-419f-904a-8082704ea5c4",
   "metadata": {},
   "outputs": [],
   "source": [
    "# unpacking\n",
    "\n",
    "x, y = point\n",
    "x, _ = point\n",
    "\n",
    "# or \n",
    "# x = point[0], y = point[1] \n",
    "print(\"x =\", x)\n",
    "print(\"y =\", y)"
   ]
  },
  {
   "cell_type": "code",
   "execution_count": null,
   "id": "d506ae81-338d-41d4-976d-15c720e30a94",
   "metadata": {},
   "outputs": [],
   "source": [
    "# tuples are inmutables\n",
    "\n",
    "point[0] = 20"
   ]
  },
  {
   "cell_type": "code",
   "execution_count": null,
   "id": "7ff8586f-a4f8-4211-8080-aedf251ba42f",
   "metadata": {},
   "outputs": [],
   "source": [
    "# using the asterisc\n",
    "\n",
    "students = (\"Alan\", \"Alex\", \"Dymtro\")\n",
    "\n",
    "lab_people = ('Paul', 'Sascha', 'Ivan', *students) \n",
    "\n",
    "print(lab_people)"
   ]
  },
  {
   "cell_type": "markdown",
   "id": "f940efe4-ea5b-490c-a4f3-fa447ed15624",
   "metadata": {},
   "source": [
    "### sets\n",
    "\n",
    "Sets are used to store multiple items in a single variable. But sets are unordered, unchangeable, and unindexed."
   ]
  },
  {
   "cell_type": "code",
   "execution_count": null,
   "id": "e5800fad-8be1-408a-a8b0-f1fc00132687",
   "metadata": {},
   "outputs": [],
   "source": [
    "# allow to store multiple objets\n",
    "myset = {\"apple\", \"banana\", \"cherry\"}\n",
    "myset[0]"
   ]
  },
  {
   "cell_type": "code",
   "execution_count": null,
   "id": "8a1d6413-22aa-42ea-a6d8-b74e77df1ca7",
   "metadata": {},
   "outputs": [],
   "source": [
    "# but very usefull to check duplicates\n",
    "\n",
    "x = {\"Davinci\", \"Edison\", \"Tesla\"}\n",
    "y = {\"Ford\", \"Kia\", \"Tesla\", \"Toyota\" }\n",
    "\n",
    "z = x.intersection(y)\n",
    "print(z)\n",
    "z = x.symmetric_difference(y)\n",
    "print(z)\n"
   ]
  },
  {
   "cell_type": "markdown",
   "id": "3835b6c6-9a4c-4deb-93e9-7d943b775a6e",
   "metadata": {},
   "source": [
    "### list and generators"
   ]
  },
  {
   "cell_type": "code",
   "execution_count": null,
   "id": "22b4f093-55de-4282-8f5d-b0098cfa61f2",
   "metadata": {},
   "outputs": [],
   "source": [
    "# can contain many types\n",
    "\n",
    "mix_list = [1, \"blueberry\", range(5), True, myset]"
   ]
  },
  {
   "cell_type": "code",
   "execution_count": null,
   "id": "3b58c4f0-8676-493d-9c52-d9591d0cf45f",
   "metadata": {},
   "outputs": [],
   "source": [
    "# nested list\n",
    "\n",
    "nested_list = [1, [\"blueberry\", [range(5), [True, [myset]]]]]"
   ]
  },
  {
   "cell_type": "code",
   "execution_count": null,
   "id": "eb361b5f-1477-4f74-99f7-0fd81a7f1d5d",
   "metadata": {},
   "outputs": [],
   "source": [
    "# sorting lists\n",
    "\n",
    "s1 = list(range(5))\n",
    "s1 = s1[::-1]\n",
    "s2 = list(\"mezzanine\")\n",
    "s1.sort()\n",
    "s2.sort()\n",
    "print(s1)\n",
    "print(s2)"
   ]
  },
  {
   "cell_type": "markdown",
   "id": "70cfb96d-d0b6-4792-9d56-d61d2d3394d5",
   "metadata": {},
   "source": [
    "To be notice this are methods over the object list. \n",
    "We don't generate another variable"
   ]
  },
  {
   "cell_type": "code",
   "execution_count": null,
   "id": "d8a57b87-acfd-4fdb-8952-7cfd302ec19a",
   "metadata": {},
   "outputs": [],
   "source": [
    "# create a new empty list\n",
    "l = []\n",
    "\n",
    "# add an elements using `append`\n",
    "l.append(\"A\")\n",
    "l.append(\"d\")\n",
    "l.append(\"d\")\n",
    "\n",
    "print(l)"
   ]
  },
  {
   "cell_type": "code",
   "execution_count": null,
   "id": "c37c2ba6-76c8-48f1-8e23-b988acab2c4e",
   "metadata": {},
   "outputs": [],
   "source": [
    "#insertions\n",
    "l[1] = \"p\"\n",
    "l[2] = \"p\"\n",
    "\n",
    "# support insert\n",
    "l.insert(0, \"i\")\n",
    "print(l)\n",
    "\n",
    "# remove\n",
    "l.remove(\"A\")\n",
    "del l[1]\n",
    "print(l)"
   ]
  },
  {
   "cell_type": "code",
   "execution_count": null,
   "id": "e46bd3c8-d839-4b54-ac72-55dc2c2ce035",
   "metadata": {},
   "outputs": [],
   "source": [
    "# search for an item \n",
    "l.index('i')"
   ]
  },
  {
   "cell_type": "code",
   "execution_count": null,
   "id": "b483aefe-61a5-44bb-9037-90dec3c5d26c",
   "metadata": {},
   "outputs": [],
   "source": [
    "# number of elements\n",
    "len(l)"
   ]
  },
  {
   "cell_type": "markdown",
   "id": "1d9898d9-f0df-46a8-ad43-7051d126ca77",
   "metadata": {},
   "source": [
    "### generators\n",
    "\n",
    "You can iterate this objects or give you an iterator, but the list is not generated its not in memory. It's a kind of saving memory list.\n"
   ]
  },
  {
   "cell_type": "code",
   "execution_count": null,
   "id": "f4076c78-5743-451a-a6a7-07cd3d6a9b6c",
   "metadata": {},
   "outputs": [],
   "source": [
    "l = [0, 1, 2, 3] #  this is a list\n",
    "print(l, type(l))"
   ]
  },
  {
   "cell_type": "code",
   "execution_count": null,
   "id": "5056c933-ee13-4403-a320-66d1df634929",
   "metadata": {},
   "outputs": [],
   "source": [
    "g = range(3)     # this is a generator\n",
    "print(g, type(g))\n",
    "list(range(3)) # we can cast into a list"
   ]
  },
  {
   "cell_type": "markdown",
   "id": "d28e3b11-d9ab-46a0-934d-e0423af80a79",
   "metadata": {},
   "source": [
    "range is a very common generator for iterations\n",
    "```python\n",
    "range(start, stop, step)\n",
    "```"
   ]
  },
  {
   "cell_type": "code",
   "execution_count": null,
   "id": "d51f06d0-05b4-447b-a1fb-10fda5b1b7e5",
   "metadata": {},
   "outputs": [],
   "source": [
    "# when you want to iterate over two list its possible,\n",
    "# this eliminiate the need od nested loops\n",
    "\n",
    "pll = list(enumerate([\"A\", \"B\", \"C\"]))\n",
    "print(pll)\n",
    "\n",
    "pll = list(zip([\"A\", \"B\", \"C\"], [\"a\", \"b\", \"c\"]))\n",
    "print(pll)"
   ]
  },
  {
   "cell_type": "code",
   "execution_count": null,
   "id": "a75e983f-bad7-4e32-af1e-f4c43d5bf8be",
   "metadata": {},
   "outputs": [],
   "source": [
    "#itertools, could be a good friend for generating diferent types of iterators \n",
    "import itertools \n",
    "cl = [\"p0\",\"p1\", \"p2\"]\n",
    "sp = ['+', '-']\n",
    "\n",
    "prd = list( itertools.product(cl,  repeat=2) )\n",
    "print(\"product:\\n\", prd)\n",
    "\n",
    "per = list( itertools.permutations(cl,  2) )\n",
    "print(\"permutations:\\n\", per)\n",
    "\n",
    "comb = list( itertools.combinations(cl, 2) )\n",
    "print(\"combinations:\\n\", comb)\n",
    "\n",
    "comb = list( itertools.product(cl, sp, repeat=1 ))\n",
    "print(\"combinations:\\n\", comb)"
   ]
  },
  {
   "cell_type": "markdown",
   "id": "d6d622d7-c7de-4b4a-a1ca-e3bb9e1e55b8",
   "metadata": {},
   "source": [
    "## Flow and its control"
   ]
  },
  {
   "cell_type": "markdown",
   "id": "fc40a643-f12e-43ff-a1d4-56180783c49f",
   "metadata": {},
   "source": [
    "### conditionals"
   ]
  },
  {
   "cell_type": "code",
   "execution_count": null,
   "id": "fa060f33-d5d4-41b7-ade7-5ba131820a51",
   "metadata": {},
   "outputs": [],
   "source": [
    "statement1 = False\n",
    "statement2 = False\n",
    "\n",
    "if statement1:\n",
    "    print(\"statement1 is True\")\n",
    "    \n",
    "elif statement2:\n",
    "    print(\"statement2 is True\")\n",
    "    \n",
    "else:\n",
    "    print(\"statement1 and statement2 are False\")"
   ]
  },
  {
   "cell_type": "markdown",
   "id": "2f45e9e6-231a-42fc-98d2-17e58d963df7",
   "metadata": {},
   "source": [
    "### loops"
   ]
  },
  {
   "cell_type": "code",
   "execution_count": null,
   "id": "fe836d00-cab0-4729-9276-092c2b133107",
   "metadata": {},
   "outputs": [],
   "source": [
    "# for loops\n",
    "\n",
    "for x in [1,2,3]:\n",
    "    print(x)"
   ]
  },
  {
   "cell_type": "code",
   "execution_count": null,
   "id": "88b0e0d4-b27c-4596-853c-7f67c6ebffbc",
   "metadata": {},
   "outputs": [],
   "source": [
    "# for loops with generators\n",
    "\n",
    "for x in range(3):\n",
    "    print(x)\n",
    "    \n",
    "import itertools as it\n",
    "for x in it.combinations([\"p1\", \"p3\", \"p4\"], 2):\n",
    "    print(x)"
   ]
  },
  {
   "cell_type": "code",
   "execution_count": null,
   "id": "e01008af-b095-4751-a844-79bc756c980f",
   "metadata": {
    "tags": []
   },
   "outputs": [],
   "source": [
    "# for with conditionals\n",
    "# with break and pass\n",
    "\n",
    "for x in range(10):\n",
    "\n",
    "    if x%2 == 0 and x != 0:\n",
    "        print(\"even\")\n",
    "        pass\n",
    "        \n",
    "    if x%7 == 0 and x != 0:\n",
    "        break\n",
    "        \n",
    "        \n",
    "    print(x)"
   ]
  },
  {
   "cell_type": "code",
   "execution_count": null,
   "id": "6598093b-d155-441d-857c-ef4d3ed09fac",
   "metadata": {
    "tags": []
   },
   "outputs": [],
   "source": [
    "# climbing index \n",
    "\n",
    "i = 0\n",
    "\n",
    "while i < 5:\n",
    "    \n",
    "    print(i)\n",
    "    \n",
    "    i = i + 1\n",
    "    \n",
    "print(\"done\")"
   ]
  },
  {
   "cell_type": "code",
   "execution_count": null,
   "id": "806531f9-4da5-457b-b2f8-86c8e14b2a53",
   "metadata": {},
   "outputs": [],
   "source": [
    "# sleeping the process\n",
    "\n",
    "import time\n",
    "\n",
    "i = 0\n",
    "while True:\n",
    "    print(i)\n",
    "    i = i + 1\n",
    "    time.sleep(2)\n",
    "    \n",
    "print(\"done\")"
   ]
  },
  {
   "cell_type": "markdown",
   "id": "16044dee-2332-4522-a183-a25273b793ad",
   "metadata": {
    "tags": []
   },
   "source": [
    "### list comprehesions\n",
    "\n",
    "Good python trick to generate list in a single line. "
   ]
  },
  {
   "cell_type": "code",
   "execution_count": null,
   "id": "a3f5d3b0-5563-4b7a-a71a-f6540f71ebbc",
   "metadata": {},
   "outputs": [],
   "source": [
    "mylist = []\n",
    "for x in range(5):\n",
    "    mylist.append(x*x)\n",
    "\n",
    "# list comprehesion form\n",
    "mylist = [x*x for x in range(5)]\n",
    "\n",
    "# list comprehesions with conditionals\n",
    "mylist = [x*x for x in range(5) if x%2 == 0]\n",
    "\n",
    "mylist = [x*x if x%2 == 0 else 0 for x in range(5)]\n",
    "\n",
    "print(mylist)"
   ]
  },
  {
   "cell_type": "markdown",
   "id": "26d2f3c0-e1f3-4fc7-8c6f-0bc2535cf82d",
   "metadata": {},
   "source": [
    "## Math, a simple module for some extra mathematics"
   ]
  },
  {
   "cell_type": "code",
   "execution_count": null,
   "id": "8ccc2684-1b4e-4c07-b1a6-eb4d90e7982e",
   "metadata": {},
   "outputs": [],
   "source": [
    "import math\n",
    "\n",
    "print(math.cos(0.5))\n",
    "print(math.pi)\n",
    "print(math.e)"
   ]
  },
  {
   "cell_type": "markdown",
   "id": "5c7d563c-9140-4665-a0f9-f1591ebbfd36",
   "metadata": {},
   "source": [
    "## Functions "
   ]
  },
  {
   "cell_type": "code",
   "execution_count": null,
   "id": "cfef2fba-d991-433a-a290-dd6fa9c6e139",
   "metadata": {
    "tags": []
   },
   "outputs": [],
   "source": [
    "# docstrings\n",
    "\n",
    "import numpy as np\n",
    "help(np.arange)"
   ]
  },
  {
   "cell_type": "code",
   "execution_count": null,
   "id": "17304308-1e0e-4548-a2b9-dc39ea66211a",
   "metadata": {},
   "outputs": [],
   "source": [
    "# homemade docstrings\n",
    "\n",
    "def my_fun(*argv, **kwargs):\n",
    "    #this is a docstring\n",
    "    \"\"\"\n",
    "    description:\n",
    "    parameters:\n",
    "    return:\n",
    "    comments:\n",
    "    \"\"\"\n",
    "    \n",
    "    # do whathever\n",
    "    return()\n",
    "\n",
    "help(my_fun)"
   ]
  },
  {
   "cell_type": "code",
   "execution_count": null,
   "id": "b3e1169f-3b65-4662-ada1-2425a718d438",
   "metadata": {},
   "outputs": [],
   "source": [
    "# args, kwargs and the meaning of * and **\n",
    "\n",
    "def my_fun(*argv):\n",
    "    for arg in argv:\n",
    "        print (arg)\n",
    "   \n",
    "my_fun('Hello', 'Welcome', 'to', 'python')\n",
    "      \n",
    "def my_fun(arg1, **kwargs):\n",
    "    for key, value in kwargs.items():\n",
    "        print (\"%s == %s\" %(key, value))\n",
    " \n",
    "my_fun(\"Hi\", first ='python', mid ='for', last='physcists')   \n",
    "\n",
    "def my_fun(*args,**kwargs):\n",
    "    print(\"args: \", args)\n",
    "    print(\"kwargs: \", kwargs)\n",
    " \n",
    "my_fun('python','for','physcists',first=\"numpy\",mid=\"matplotlib\",last=\"Scypy\")"
   ]
  },
  {
   "cell_type": "markdown",
   "id": "1eb296c9-8d5b-4370-a708-aeb6142f3ce2",
   "metadata": {},
   "source": [
    "## Directories and Files"
   ]
  },
  {
   "cell_type": "code",
   "execution_count": null,
   "id": "d2d68204-f261-43d5-80ab-a711da2717a6",
   "metadata": {},
   "outputs": [],
   "source": [
    "import os\n",
    "# get the actual current working directory\n",
    "cwd = os.getcwd()\n",
    "print(cwd)\n",
    "\n",
    "# current OS\n",
    "from sys import platform\n",
    "platform"
   ]
  },
  {
   "cell_type": "code",
   "execution_count": null,
   "id": "8c29aa49-da89-4153-9f99-82bd1c6d022a",
   "metadata": {
    "tags": []
   },
   "outputs": [],
   "source": [
    "#create a new directory\n",
    "course_dir = cwd \n",
    "data_dir = course_dir + \"\\data\"\n",
    "os.mkdir(data_dir)\n",
    "\n",
    "if not os.path.exists(data_dir):\n",
    "    os.mkdir(data_dir)"
   ]
  },
  {
   "cell_type": "code",
   "execution_count": null,
   "id": "5dd6b1c8-a570-40c4-91c2-722ca8c9ff53",
   "metadata": {},
   "outputs": [],
   "source": [
    "# collecting files \n",
    "import glob\n",
    "glob.glob(course_dir + \"\\\\*\\\\*.py\", recursive=True)"
   ]
  },
  {
   "cell_type": "code",
   "execution_count": null,
   "id": "edfc5038-b956-432d-b29a-76f79e5f2ae7",
   "metadata": {},
   "outputs": [],
   "source": [
    "# download file\n",
    "import requests\n",
    "# cheat sheet for jupyter\n",
    "url_jn_cheatsheet = \"https://www.anaconda.com/wp-content/uploads/2019/03/11-2018-JupyterLab-Notebook-Cheatsheet.pdf\"\n",
    "\n",
    "# URL of the image to be downloaded is defined as image_url\n",
    "r = requests.get(url_jn_cheatsheet) # create HTTP response object\n",
    "# the HTTP response in a response object called r\n",
    "with open(data_dir + \"\\JN_cheatsheet.pdf\",'wb') as f:\n",
    "    # write the contents of the response (r.content)\n",
    "    # to a new file in binary mode.\n",
    "    f.write(r.content)"
   ]
  },
  {
   "cell_type": "markdown",
   "id": "fef1e3c3-d2ae-4fae-8b1a-85916bb6823e",
   "metadata": {},
   "source": [
    "## Exceptions and context managers"
   ]
  },
  {
   "cell_type": "code",
   "execution_count": null,
   "id": "67fb6b6e-8775-493c-be99-47b1d8fecbb2",
   "metadata": {},
   "outputs": [],
   "source": [
    "def divide(x, y):\n",
    "    try:\n",
    "        result = x / y   \n",
    "    except ZeroDivisionError:\n",
    "        print(\"division by zero!\")\n",
    "    else:\n",
    "         print(\"result is\", result)\n",
    "    finally:\n",
    "         print(\"executing finally clause\")\n",
    "\n",
    "divide(2, 0)"
   ]
  },
  {
   "cell_type": "code",
   "execution_count": null,
   "id": "8bb08575-6ac9-484f-8e83-eb426d18cdb4",
   "metadata": {},
   "outputs": [],
   "source": [
    "x, y = 1, 2\n",
    "file = open(data_dir + \"\\hello.txt\", \"a\")\n",
    "file.write(f\"Hello, World!\\nThe division is {x/y}\")\n",
    "file.close()"
   ]
  },
  {
   "cell_type": "code",
   "execution_count": null,
   "id": "542970de-3a21-4111-a220-278f2a2f7444",
   "metadata": {
    "tags": []
   },
   "outputs": [],
   "source": [
    "x, y = 1, 2\n",
    "# context manager\n",
    "with open(data_dir + \"\\hello.txt\", \"a\") as f:\n",
    "    f.write(f\"Hello, World!\\nThe division is {x/y}\")"
   ]
  },
  {
   "cell_type": "code",
   "execution_count": null,
   "id": "869d20d6-e7da-4dc6-b481-6abc41000cfb",
   "metadata": {},
   "outputs": [],
   "source": [
    "import time\n",
    "try:\n",
    "    i = 0\n",
    "    while True:\n",
    "        print(i)\n",
    "        i = i + 1\n",
    "        time.sleep(2)\n",
    "except KeyboardInterrupt:\n",
    "    print(\"done\")\n",
    "    pass"
   ]
  },
  {
   "cell_type": "markdown",
   "id": "2e2996a0-1858-43ff-87d5-6b733158abc9",
   "metadata": {},
   "source": [
    "## Time and dates"
   ]
  },
  {
   "cell_type": "code",
   "execution_count": null,
   "id": "b2628bb0-aa11-4dc7-bd88-2d16574e1419",
   "metadata": {},
   "outputs": [],
   "source": [
    "# with time package we can pause the process or get the time in second\n",
    "import time\n",
    "\n",
    "time.sleep(1) # puts the process to sleep in seconds\n",
    "time.time() # return time in seconds"
   ]
  },
  {
   "cell_type": "code",
   "execution_count": null,
   "id": "545ecb52-0a22-4800-9874-5bfa8597f101",
   "metadata": {},
   "outputs": [],
   "source": [
    "# with datetime we can get the actual date\n",
    "from datetime import datetime\n",
    "\n",
    "d = datetime.now()\n",
    "print(d, type(d)) # its a different object"
   ]
  },
  {
   "cell_type": "code",
   "execution_count": null,
   "id": "63a8a6d8-0ab1-4ed4-ba4b-2371b4e55390",
   "metadata": {},
   "outputs": [],
   "source": [
    "# we can transform from datetime object to string\n",
    "d_str = d.strftime(\"%Y-%m-%d %H:%M\")\n",
    "print(d_str)"
   ]
  },
  {
   "cell_type": "code",
   "execution_count": null,
   "id": "857686ab-59eb-4de6-ae37-8711c7bd8ef9",
   "metadata": {},
   "outputs": [],
   "source": [
    "# from string to datetime format\n",
    "datetime.strptime(d_str,\" %Y-%m-%d %H:%M\")"
   ]
  },
  {
   "cell_type": "markdown",
   "id": "503048b2-643c-4fa5-8b3d-3a4f3c2907b4",
   "metadata": {},
   "source": [
    "## Random numbers\n",
    "There are many libraries for randomise, this is the basic."
   ]
  },
  {
   "cell_type": "code",
   "execution_count": null,
   "id": "044f8698-4798-4628-840e-f3f72699e045",
   "metadata": {},
   "outputs": [],
   "source": [
    "import random\n",
    "\n",
    "print(random.randrange(1, 10))"
   ]
  },
  {
   "cell_type": "markdown",
   "id": "765d4221-7015-42e9-9a3c-d07bf76b9a2c",
   "metadata": {},
   "source": [
    "## Breaking lines"
   ]
  },
  {
   "cell_type": "code",
   "execution_count": null,
   "id": "759236f9-9422-4a46-8240-c1c0b16771a2",
   "metadata": {},
   "outputs": [],
   "source": [
    "# enclosed lines are easy\n",
    "\n",
    "def dostuff(blahblah1, blahblah2, blahblah3, blahblah4, blahblah5, blahblah6, blahblah7):\n",
    "    stuff = \"\"\n",
    "    return(stuff)\n",
    "\n",
    "a = dostuff(\"bla1\", \"bla2\", \"bla3\", \"bla4\", \"bla5\", \"bla6\", \"bla7\")\n",
    "\n",
    "# its easy, python knows where the lines ends\n",
    "def dostuff(blahblah1, blahblah2, blahblah3, \n",
    "            blahblah4, blahblah5, blahblah6, blahblah7):\n",
    "    stuff = \"\"\n",
    "    return(stuff)\n",
    "a = dostuff(\"bla1\", \"bla2\", \"bla3\",\n",
    "            \"bla4\", \"bla5\", \"bla6\", \"bla7\")\n",
    "# same for arrays\n",
    "the_ABC = [\n",
    "           \"A\",\n",
    "           \"B\",\n",
    "           \"C\"\n",
    "          ]\n",
    "\n",
    "# same for dictionaries\n",
    "the_ABC = {\n",
    "           \"A\":[1,2,3],\n",
    "           \"B\":[1,2,3],\n",
    "           \"C\":[1,2,3]\n",
    "          }"
   ]
  },
  {
   "cell_type": "code",
   "execution_count": null,
   "id": "befc316a-fe7a-4c5b-8d47-cb298b61b255",
   "metadata": {},
   "outputs": [],
   "source": [
    "# with string  or conditionals we need to be explicit \"\\\" or include parentheses\n",
    "\n",
    "t = [15, 15, 65, 45, 23 ]\n",
    "out = f\"sensor1 {t[0]} sensor2 {t[1]} sensor3 {t[2]} sensor4 {t[3]} sensor5 {t[4]}\"\n",
    "logic = t[0] < 40 and t[1] < 40 and t[2] < 40 and t[3] < 40 and t[4] < 40"
   ]
  },
  {
   "cell_type": "code",
   "execution_count": null,
   "id": "63d21a00-88e1-4f00-ac3f-04638ca7da28",
   "metadata": {},
   "outputs": [],
   "source": [
    "out = (f\"sensor1 {t[0]}\" + \n",
    "       f\"sensor2 {t[1]}\" +\n",
    "       f\"sensor3 {t[2]}\" +\n",
    "       f\"sensor4 {t[3]}\" +\n",
    "       f\"sensor5 {t[4]}\" \n",
    "      )\n",
    "\n",
    "logic = (t[0] < 40 and \n",
    "         t[1] < 40 and \n",
    "         t[2] < 40 and \n",
    "         t[3] < 40 and \n",
    "         t[4] < 40\n",
    "        )"
   ]
  },
  {
   "cell_type": "code",
   "execution_count": null,
   "id": "294e80bc-566b-4470-924b-9ccc18fefa73",
   "metadata": {},
   "outputs": [],
   "source": [
    "out =  f\"sensor1 {t[0]}\" + \\\n",
    "       f\"sensor2 {t[1]}\" + \\\n",
    "       f\"sensor3 {t[2]}\" + \\\n",
    "       f\"sensor4 {t[3]}\" + \\\n",
    "       f\"sensor5 {t[4]}\" \n",
    "\n",
    "logic =  t[0] < 40 and \\\n",
    "         t[1] < 40 and \\\n",
    "         t[2] < 40 and \\\n",
    "         t[3] < 40 and \\\n",
    "         t[4] < 40\n",
    "        "
   ]
  },
  {
   "cell_type": "markdown",
   "id": "4d2a1d3d-cfae-43cb-8521-dab42a20cef2",
   "metadata": {},
   "source": [
    "## More and more stuff\n",
    "There way more thing than can be useful in the core libraries of python as:\n",
    "```python\n",
    "socket\n",
    "parallel\n",
    "ect\n",
    "```\n",
    "but not today   \n",
    "👋🏻👋🏻👋🏻"
   ]
  },
  {
   "cell_type": "markdown",
   "id": "ed34ef5b-de69-4d95-9119-8d335c1ab626",
   "metadata": {},
   "source": [
    "[Previous](0_Python_in_the_mezzanine.ipynb)  \n",
    "[Next](2_Python_in_the_mezzanine.ipynb)  "
   ]
  }
 ],
 "metadata": {
  "kernelspec": {
   "display_name": "Python 3 (ipykernel)",
   "language": "python",
   "name": "python3"
  },
  "language_info": {
   "codemirror_mode": {
    "name": "ipython",
    "version": 3
   },
   "file_extension": ".py",
   "mimetype": "text/x-python",
   "name": "python",
   "nbconvert_exporter": "python",
   "pygments_lexer": "ipython3",
   "version": "3.7.11"
  },
  "toc-autonumbering": true,
  "toc-showmarkdowntxt": false
 },
 "nbformat": 4,
 "nbformat_minor": 5
}
