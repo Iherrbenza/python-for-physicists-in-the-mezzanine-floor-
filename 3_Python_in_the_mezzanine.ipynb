{
 "cells": [
  {
   "cell_type": "markdown",
   "id": "095c2990-9052-4380-961d-c81a9cee4ffa",
   "metadata": {},
   "source": [
    "<b style=\"font-size:45px;color:#2196F3;\">Introduction to python for pysicists in the mezzanine floor</b>  \n",
    "<b style=\"font-size:30px;color:#2196F3;\">notebook_2_numpy</b>\n",
    "\n",
    "In this 2st notebook I'll try to give some tips for the core library of python\n",
    "\n",
    "Ivan Herrera Benzaquen"
   ]
  },
  {
   "cell_type": "markdown",
   "id": "386408a7-9ee1-419e-8fad-c03ccc9c18bb",
   "metadata": {},
   "source": [
    "# Numpy"
   ]
  },
  {
   "cell_type": "code",
   "execution_count": null,
   "id": "eb53a220-4884-4841-ad7b-046bf9a8529a",
   "metadata": {},
   "outputs": [],
   "source": []
  },
  {
   "cell_type": "markdown",
   "id": "ced8ca92-b9d1-41a5-9ed3-5d87da5dace9",
   "metadata": {},
   "source": [
    "[Previous](1_Python_in_the_mezzanine.ipynb)  \n",
    "[Next](2_Python_in_the_mezzanine.ipynb)"
   ]
  }
 ],
 "metadata": {
  "kernelspec": {
   "display_name": "Python 3 (ipykernel)",
   "language": "python",
   "name": "python3"
  },
  "language_info": {
   "codemirror_mode": {
    "name": "ipython",
    "version": 3
   },
   "file_extension": ".py",
   "mimetype": "text/x-python",
   "name": "python",
   "nbconvert_exporter": "python",
   "pygments_lexer": "ipython3",
   "version": "3.7.11"
  }
 },
 "nbformat": 4,
 "nbformat_minor": 5
}
