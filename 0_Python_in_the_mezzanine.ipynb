{
 "cells": [
  {
   "cell_type": "markdown",
   "id": "1571ae73-4d49-4aed-9d48-6c7bf1c46499",
   "metadata": {},
   "source": [
    "# Introduction to python for physicists in the mezzanine floor\n",
    "\n",
    "Ivan Herrera Benzaquen"
   ]
  },
  {
   "cell_type": "markdown",
   "id": "953533e9-fc03-402c-a08e-d4cd47363daa",
   "metadata": {
    "jp-MarkdownHeadingCollapsed": true,
    "tags": []
   },
   "source": [
    "## Software needed\n",
    "First of all, you want to install the python programming language. Also, I recommend JupyterLab as a convenient notebook interface for python programming. Depending on your taste and your system, you might want to download these individually or as part of a full distribution like Anaconda.\n",
    "\n",
    "An alternative, completely online solution is the Colaboratory platform by Google. This is a web-based jupyter notebook interface to python and allows you to run your code for free on their GPU servers.\n",
    "\n",
    "A third alternative is deepnote. This is also a free online platform with a jupyter interface."
   ]
  },
  {
   "cell_type": "markdown",
   "id": "b7fbca16-0932-4b1f-aba5-996c7105b11e",
   "metadata": {},
   "source": [
    "## The use of python in science\n",
    "Theory\n",
    "Analysis\n",
    "I/O instrumets for experimental setup"
   ]
  },
  {
   "cell_type": "markdown",
   "id": "82a93e47-3a14-47ba-9ead-7c4ebbb8c9bb",
   "metadata": {},
   "source": [
    "## What is Python?\n",
    "Python is a general-purpose, object-oriented, high-level programming language.\n",
    "\n",
    "* **dynamically typed:** \n",
    "* **automatic memory management:** \n",
    "* **interpreted:** "
   ]
  },
  {
   "cell_type": "markdown",
   "id": "a25dd17b-036c-4a02-9ecd-b47ff8fe0708",
   "metadata": {},
   "source": [
    "### advantages\n",
    "\n",
    "* The main advantage is ease of programming, minimizing the time required to develop, debug and maintain the code\n",
    "<img src=\"data\\sketchy_graph.png\" width=\"600\">\n",
    "\n",
    "* Python has a strong position in scientific computing: \n",
    "    * Large community of users, easy to find help and documentation.\n",
    "\n",
    "* Set of well settled scientific libraries as:\n",
    "    * numpy: Numerical Python\n",
    "    * scipy: Scientific Python\n",
    "    * matplotlib: graphics library\n",
    "    *  and more\n",
    "    \n",
    "   "
   ]
  },
  {
   "cell_type": "markdown",
   "id": "c5af2e09-ada1-4d68-b5b7-83610b6e1439",
   "metadata": {
    "tags": []
   },
   "source": [
    "## Sofware package and stack\n",
    "\n",
    "<img src=\"data\\python_stack.png\" width=\"600\">"
   ]
  },
  {
   "cell_type": "code",
   "execution_count": null,
   "id": "9811442c-8c0d-4b45-8e85-1fbb44c0d83a",
   "metadata": {
    "tags": []
   },
   "outputs": [],
   "source": [
    "# versions \n",
    "!python --version"
   ]
  },
  {
   "cell_type": "markdown",
   "id": "c55eca25-5720-4bed-852d-313a4c658a0f",
   "metadata": {},
   "source": [
    "importing packages\n",
    "```python\n",
    "import numpy as np\n",
    "np.arange(10)\n",
    "\n",
    "import math\n",
    "x = math.cos(2 * pi)\n",
    "\n",
    "from math import *\n",
    "x = cos(2 * pi)\n",
    "\n",
    "from math import cos, pi\n",
    "x = cos(2 * pi)\n",
    "\n",
    "import yourfile.py\n",
    "```"
   ]
  },
  {
   "cell_type": "markdown",
   "id": "234a26ef-e174-4a15-a0ef-3bfa9379b2f3",
   "metadata": {},
   "source": [
    "## What is Anaconda?"
   ]
  },
  {
   "cell_type": "code",
   "execution_count": null,
   "id": "3f7c87f0-5a41-4aa3-bb69-9650f8953a2e",
   "metadata": {},
   "outputs": [],
   "source": [
    "# list packages\n",
    "!conda list"
   ]
  },
  {
   "cell_type": "code",
   "execution_count": null,
   "id": "6f61ef98-8c5c-4d0d-872a-b78380d788cc",
   "metadata": {
    "tags": []
   },
   "outputs": [],
   "source": [
    "lp = !conda list\n",
    "[print(i) for i in lp if 'matplotlib' in i] "
   ]
  },
  {
   "cell_type": "code",
   "execution_count": null,
   "id": "3b54dd39-c928-4d0c-9790-e84da0873a6e",
   "metadata": {
    "tags": []
   },
   "outputs": [],
   "source": [
    "# dependencies\n",
    "!conda search sympy=1.8 --info "
   ]
  },
  {
   "cell_type": "markdown",
   "id": "9aaee4db-437c-4831-8c3b-ebcc194d6020",
   "metadata": {},
   "source": [
    "### Usual conda commands"
   ]
  },
  {
   "cell_type": "markdown",
   "id": "ec71029d-2fb6-4fc6-b416-9e2edb315cda",
   "metadata": {},
   "source": [
    "conda install package_name=3.5.6\n",
    "conda update conda\n",
    "\n",
    "more in the cheat sheet\n",
    "https://docs.conda.io/projects/conda/en/4.6.0/_downloads/52a95608c49671267e40c689e0bc00ca/conda-cheatsheet.pdf"
   ]
  },
  {
   "cell_type": "markdown",
   "id": "7928201a-7521-4c0f-a270-d0c301d196a4",
   "metadata": {},
   "source": [
    "### conda enviroments\n",
    "\n",
    "A way to solve dependecies is to create a new enviroment, new python installation (only the core libraries)\n",
    "\n",
    "```\n",
    "conda create --name py35 python=3.5 \n",
    "```\n",
    "A enviorment py35 has been created with a python 3.5 on it\n",
    "```\n",
    "conda env list\n",
    "```\n",
    "List the envioroment you have\n",
    "```\n",
    "conda activate py35\n",
    "```\n",
    "change to the new envioroment\n",
    "\n",
    "```\n",
    "conda install package_name=3.9.0\n",
    "```\n",
    "this will install the packge in the activated enviroment"
   ]
  },
  {
   "cell_type": "markdown",
   "id": "f2ebc5c6-5bcf-458f-b1fb-a6a29902a669",
   "metadata": {},
   "source": [
    "## Interpreters and IDEs\n",
    "Atom, Sublime VSC\n",
    "Ipython,IDLE, and terminal that terrible thing"
   ]
  },
  {
   "cell_type": "markdown",
   "id": "e87bcd40-d93f-4bac-b3dc-c799f9efe80a",
   "metadata": {
    "tags": []
   },
   "source": [
    "## Jupyter notebook\n",
    "info  \n",
    "https://jupyterlab.readthedocs.io/en/stable/user/interface.html  \n",
    "cheat sheet  \n",
    "https://www.anaconda.com/wp-content/uploads/2019/03/11-2018-JupyterLab-Notebook-Cheatsheet.pdf  "
   ]
  },
  {
   "cell_type": "markdown",
   "id": "426a0102-9b23-4834-9844-4d04e4f0555c",
   "metadata": {
    "tags": [],
    "toc-hr-collapsed": true
   },
   "source": [
    "### markdown"
   ]
  },
  {
   "cell_type": "markdown",
   "id": "53b2b2c5-2be4-47a9-b926-ae34cae8819d",
   "metadata": {},
   "source": [
    "#### headers"
   ]
  },
  {
   "cell_type": "markdown",
   "id": "c09fb3da-b88a-4281-9bfd-145c6e58af9f",
   "metadata": {
    "tags": []
   },
   "source": [
    "#### lists\n",
    "* This is a bullet list\n",
    "* This is a bullet list\n",
    "* This is a bullet list\n",
    "\n",
    "1. And you can also create ordered lists\n",
    "2. by using numbers\n",
    "3. and listing new items in the lists \n",
    "4. on their own lines"
   ]
  },
  {
   "cell_type": "markdown",
   "id": "b51d4b57-8eb7-46ef-9033-2a43f5f9ca83",
   "metadata": {
    "tags": []
   },
   "source": [
    "#### block quotes\n",
    "> this a block quote  \n",
    "> here as well\n",
    "\n",
    "> And also can be nested\n",
    ">> like this\n",
    ">>> even more\n"
   ]
  },
  {
   "cell_type": "markdown",
   "id": "454c5059-3dc4-4c72-a9d2-570833dee9d2",
   "metadata": {},
   "source": [
    "#### reference links\n",
    "This is [a reference] [chile]\n",
    "\n",
    "[chile]: http://en.wikipedia.org/wiki/Chile \"Wikipedia Article About Chile\" "
   ]
  },
  {
   "cell_type": "markdown",
   "id": "51914494-3efd-4cc0-9b61-e2cdf1782781",
   "metadata": {},
   "source": [
    "[Next](1_Python_in_the_mezzanine.ipynb)"
   ]
  },
  {
   "cell_type": "markdown",
   "id": "767367c5-5c83-4855-8106-114db7e99523",
   "metadata": {
    "tags": []
   },
   "source": [
    "#### tables\n",
    "|Header|Header|Header|Header|\n",
    "|------|------|------|------|\n",
    "|Cell  |Cell  |Cell  | Cell |\n",
    "|Cell  |Cell  |Cell  | Cell |\n",
    "|Cell  |Cell  |Cell  | Cell |\n",
    "|Cell  |Cell  |Cell  | Cell |"
   ]
  },
  {
   "cell_type": "markdown",
   "id": "a5b2c07e-29f6-4214-b6bb-c6f57d204eaf",
   "metadata": {
    "tags": []
   },
   "source": [
    "#### style and emphasis\n",
    "*Italics*  _Italics_ **Bold** __Bold__"
   ]
  },
  {
   "cell_type": "markdown",
   "id": "439b324c-070f-4590-90f5-821cdf35d216",
   "metadata": {},
   "source": [
    "#### code\n",
    "The word ```monospace``` will appear in a code-like form.\n",
    "```python\n",
    "def function(n):\n",
    "    return n + 1\n",
    "```"
   ]
  },
  {
   "cell_type": "markdown",
   "id": "387f6fd2-6231-4d54-b386-e13ef50f8372",
   "metadata": {},
   "source": [
    "#### LaTeX math\n",
    "$z=\\dfrac{2x}{3y}$  \n",
    "\n",
    "$F(k) = \\int_{-\\infty}^{\\infty} f(x) e^{2\\pi i k} dx$\n",
    "\n",
    "$$2x+3y=z$$"
   ]
  },
  {
   "cell_type": "markdown",
   "id": "3906ba01-3e16-44ac-b854-ed9e4d5e927c",
   "metadata": {},
   "source": [
    "#### images\n",
    "![][beta_dec]\n",
    "\n",
    "[beta_dec]:https://upload.wikimedia.org/wikipedia/commons/a/aa/Beta-minus_Decay.svg \"showing beta-minus decay.\""
   ]
  },
  {
   "cell_type": "markdown",
   "id": "c8679d6a-5641-44cf-b231-dd43d143ecf8",
   "metadata": {},
   "source": [
    "### videos"
   ]
  },
  {
   "cell_type": "code",
   "execution_count": null,
   "id": "dc6346e2-e780-45ae-aec5-f2e4581b2ced",
   "metadata": {},
   "outputs": [],
   "source": [
    "from IPython.display import YouTubeVideo\n",
    "YouTubeVideo(\"l0Zc7jhEcLg\", 800, 500)"
   ]
  },
  {
   "cell_type": "markdown",
   "id": "4960a560-2771-4cb2-9b5a-755bda2e2e2a",
   "metadata": {},
   "source": [
    "### magic commands\n",
    "https://ipython.readthedocs.io/en/stable/interactive/magics.html"
   ]
  },
  {
   "cell_type": "code",
   "execution_count": null,
   "id": "d4fafc8a-7762-441a-8332-fcf0b64f6ef0",
   "metadata": {},
   "outputs": [],
   "source": [
    "n = 100000\n",
    "%time sum(range(n))\n",
    "%timeit sum(range(n))"
   ]
  },
  {
   "cell_type": "code",
   "execution_count": null,
   "id": "14401ca8-a23c-409d-be7b-c1a3c1a45848",
   "metadata": {
    "tags": []
   },
   "outputs": [],
   "source": [
    "%history -n 4-6"
   ]
  },
  {
   "cell_type": "code",
   "execution_count": null,
   "id": "eed6f72e-1a9d-45f7-8793-053beb68d07c",
   "metadata": {},
   "outputs": [],
   "source": [
    "%who\n",
    "%who_ls int"
   ]
  },
  {
   "cell_type": "markdown",
   "id": "c217f3eb-405d-45e7-a40a-c0578ff86bbb",
   "metadata": {},
   "source": [
    "### widgets"
   ]
  },
  {
   "cell_type": "code",
   "execution_count": 50,
   "id": "f850dff3-9837-4f06-9c0d-b5baebce83f4",
   "metadata": {},
   "outputs": [
    {
     "data": {
      "application/vnd.jupyter.widget-view+json": {
       "model_id": "6ed550d4010542fc89b9dcd18631c834",
       "version_major": 2,
       "version_minor": 0
      },
      "text/plain": [
       "IntSlider(value=0)"
      ]
     },
     "metadata": {},
     "output_type": "display_data"
    }
   ],
   "source": [
    "import ipywidgets as wdg\n",
    "w = wdg.IntSlider()\n",
    "w\n"
   ]
  },
  {
   "cell_type": "code",
   "execution_count": 51,
   "id": "540e5ac6-598e-4970-8b20-37723aa24066",
   "metadata": {},
   "outputs": [
    {
     "data": {
      "application/vnd.jupyter.widget-view+json": {
       "model_id": "30a2d36600054054a29b8b482ab79349",
       "version_major": 2,
       "version_minor": 0
      },
      "text/plain": [
       "DatePicker(value=None, description='Pick a Date')"
      ]
     },
     "metadata": {},
     "output_type": "display_data"
    }
   ],
   "source": [
    "wdg.DatePicker(\n",
    "    description='Pick a Date',\n",
    "    disabled=False\n",
    ")"
   ]
  },
  {
   "cell_type": "markdown",
   "id": "aa3cd55f-7725-470d-b863-25b5336f5420",
   "metadata": {},
   "source": [
    "### notebook galleries\n",
    "https://gist.github.com/ocoyawale/54d92fd4bf92508a2a6e482b5fa480fd#introductory-tutorials"
   ]
  },
  {
   "cell_type": "markdown",
   "id": "93a8314d-caa3-4728-953f-6c060ea1b5cb",
   "metadata": {},
   "source": [
    "## Basic Python"
   ]
  },
  {
   "cell_type": "markdown",
   "id": "18224145-467f-4764-b8db-b30f9ce67072",
   "metadata": {},
   "source": [
    "#### data types"
   ]
  },
  {
   "cell_type": "markdown",
   "id": "da11ed88-171f-4c07-bcf3-bd4950ce688c",
   "metadata": {},
   "source": [
    "variable assignments rules \n",
    "start with a letter\n",
    "\n",
    "do not use python keywords:\n",
    "```python\n",
    "and, as, assert, break, class, continue, def, del, elif, else, except, \n",
    "exec, finally, for, from, global, if, import, in, is, lambda, not, or,\n",
    "pass, print, raise, return, try, while, with, yield\n",
    "```"
   ]
  },
  {
   "cell_type": "code",
   "execution_count": null,
   "id": "ddf7c2f1-7e25-4c03-bd19-349fa2ed34d4",
   "metadata": {},
   "outputs": [],
   "source": [
    "x = 1.0\n",
    "type(x)\n",
    "\n",
    "z = complex(x)\n",
    "print(z, type(z))"
   ]
  },
  {
   "cell_type": "code",
   "execution_count": null,
   "id": "b7b4f195-878b-4989-ab22-9d32d3a4c13b",
   "metadata": {},
   "outputs": [],
   "source": [
    "import types\n",
    "# print all types defined in the `types` module\n",
    "print(dir(types))"
   ]
  },
  {
   "cell_type": "markdown",
   "id": "bf1c811a-a001-418e-bc91-3d8026190fb8",
   "metadata": {},
   "source": [
    "#### operations\n",
    "Most operators and comparisons in Python work as one would expect:\n",
    "\n",
    "* Arithmetic operators `+`, `-`, `*`, `/`, `//` (integer division), `%`  (division rest) `**` power\n",
    "* The boolean operators are spelled out as the words `and`, `not`, `or`. \n",
    "* Comparison operators `>`, `<`, `>=` (greater or equal), `<=` (less or equal), `==` equality, `is` identical.\n",
    "* `in` comparison for strings and lists"
   ]
  },
  {
   "cell_type": "code",
   "execution_count": null,
   "id": "b0727daf-c916-482f-8164-208fbffb176b",
   "metadata": {},
   "outputs": [],
   "source": [
    "phrase = \"python_core 3.5.2\"\n",
    "print(\"python\" in phrase)\n",
    "# this is because a string share  propierties from compound objects as the list (iterables)\n",
    "l = [1, 32, \"python\", \"mezzanine\"]\n",
    "print(\"python\" in l)"
   ]
  },
  {
   "cell_type": "markdown",
   "id": "7f85ce0a-e108-43cc-89c1-a86b7c664bad",
   "metadata": {
    "tags": []
   },
   "source": [
    "#### strings and dictionaries"
   ]
  },
  {
   "cell_type": "code",
   "execution_count": null,
   "id": "fae2535b-9cda-4025-938f-1440bcea3dfc",
   "metadata": {},
   "outputs": [],
   "source": [
    "s = \"Hello world\"\n",
    "type(s)\n",
    "# length of the string: the number of characters\n",
    "len(s)\n",
    "# replace a substring in a string with something else\n",
    "s2 = s.replace(\"world\", \"test\")\n",
    "print(s2)\n",
    "# split in substrings with a key\n",
    "s3 = s.split(\" \")\n",
    "print(s3)\n",
    "print(s[0]) \n",
    "print('index starts at 0!')"
   ]
  },
  {
   "cell_type": "code",
   "execution_count": null,
   "id": "f0880110-41ae-4040-a706-27ebc9388d11",
   "metadata": {},
   "outputs": [],
   "source": [
    "# print and format\n",
    "print(\"str1\", \"str2\", \"str3\")  # The print statement concatenates strings with a space\n",
    "print(\"str1\", 1.0, False, -1j)  # The print statements converts all arguments to strings\n",
    "print(\"str1\" + \"str2\" + \"str3\") # strings added with + are concatenated without space\n",
    "\n",
    "i = 2\n",
    "s = \"cells\"\n",
    "a = f\"the number of {s} was {i}\"\n",
    "print(a)\n",
    "\n",
    "a = \"the number of {} was {:.2E}\".format(s, i)\n",
    "print(a)"
   ]
  },
  {
   "cell_type": "code",
   "execution_count": null,
   "id": "f5e0e7d3-9d55-4c3f-91f5-8aaf3dffafa2",
   "metadata": {},
   "outputs": [],
   "source": [
    "# Dictionaries are also like lists, except that each element is a key-value pair.\n",
    "# The syntax for dictionaries is `{key1 : value1, ...}`:\n",
    "params = {\"parameter1\" : 1.0,\n",
    "          \"parameter2\" : 2.0,\n",
    "          \"parameter3\" : 3.0,}\n",
    "\n",
    "print(type(params))\n",
    "print(params)"
   ]
  },
  {
   "cell_type": "markdown",
   "id": "3835b6c6-9a4c-4deb-93e9-7d943b775a6e",
   "metadata": {},
   "source": [
    "#### list and generators"
   ]
  },
  {
   "cell_type": "code",
   "execution_count": null,
   "id": "f4076c78-5743-451a-a6a7-07cd3d6a9b6c",
   "metadata": {},
   "outputs": [],
   "source": [
    "l = [0, 1, 2, 3] #  this is a list\n",
    "print(l, type(l))"
   ]
  },
  {
   "cell_type": "code",
   "execution_count": null,
   "id": "5056c933-ee13-4403-a320-66d1df634929",
   "metadata": {},
   "outputs": [],
   "source": [
    "\n",
    "g = range(3)     # this is a generator\n",
    "print(g, type(g))\n",
    "list(range(3)) # we can cast it"
   ]
  },
  {
   "cell_type": "markdown",
   "id": "fc40a643-f12e-43ff-a1d4-56180783c49f",
   "metadata": {},
   "source": [
    "#### iterations and flow"
   ]
  },
  {
   "cell_type": "markdown",
   "id": "1d9898d9-f0df-46a8-ad43-7051d126ca77",
   "metadata": {},
   "source": [
    "#### itertools, your best friend"
   ]
  },
  {
   "cell_type": "code",
   "execution_count": null,
   "id": "491f18d3-305c-4fb7-be9e-36e2d2a177ff",
   "metadata": {},
   "outputs": [],
   "source": [
    "pll = list(enumerate([\"A\", \"B\", \"C\"]))\n",
    "print(pll)\n",
    "\n",
    "pll = list(zip([\"A\", \"B\", \"C\"], [\"a\", \"b\", \"c\"]))\n",
    "print(pll)\n",
    "\n",
    "import itertools\n",
    "prd = list( itertools.product(\"ABC\",  repeat=2) )\n",
    "print(\"product \", prd)\n",
    "per = list( itertools.permutations(\"ABC\",  2) )\n",
    "print(\"permutations \", per)\n",
    "comb = list( itertools.combinations(\"ABC\", 2) )\n",
    "print(\"combinations \", comb)"
   ]
  },
  {
   "cell_type": "markdown",
   "id": "16044dee-2332-4522-a183-a25273b793ad",
   "metadata": {},
   "source": [
    "#### list comprehesions"
   ]
  },
  {
   "cell_type": "code",
   "execution_count": null,
   "id": "a3f5d3b0-5563-4b7a-a71a-f6540f71ebbc",
   "metadata": {},
   "outputs": [],
   "source": [
    "mylist = []\n",
    "for x in range(5):\n",
    "    mylist.append(x*x)\n",
    "\n",
    "# list comprehesion form\n",
    "mylist = [x*x for x in range(5)]\n",
    "\n",
    "# list comprehesions with conditionals\n",
    "mylist = [x*x for x in range(5) if x%2 == 0]\n",
    "\n",
    "mylist = [x*x if x%2 == 0 else 0 for x in range(5)]\n",
    "\n",
    "print(mylist)"
   ]
  },
  {
   "cell_type": "markdown",
   "id": "5c7d563c-9140-4665-a0f9-f1591ebbfd36",
   "metadata": {},
   "source": [
    "#### functions and docstrings"
   ]
  },
  {
   "cell_type": "code",
   "execution_count": null,
   "id": "cfef2fba-d991-433a-a290-dd6fa9c6e139",
   "metadata": {
    "tags": []
   },
   "outputs": [],
   "source": [
    "import numpy as np\n",
    "# help(np.arange)"
   ]
  },
  {
   "cell_type": "code",
   "execution_count": null,
   "id": "070f279e-e528-4d71-9f80-bbdad9d508e6",
   "metadata": {},
   "outputs": [],
   "source": [
    "def my_fun(*argv, **kwargs):\n",
    "    #this is a docstring\n",
    "    \"\"\"\n",
    "    description:\n",
    "    parameters:\n",
    "    return:\n",
    "    comments:\n",
    "    \"\"\"\n",
    "    \n",
    "    # do whathever\n",
    "    return()\n",
    "\n",
    "def my_fun(*argv):\n",
    "    for arg in argv:\n",
    "        print (arg)\n",
    "   \n",
    "my_fun('Hello', 'Welcome', 'to', 'python')\n",
    "      \n",
    "def my_fun(arg1, **kwargs):\n",
    "    for key, value in kwargs.items():\n",
    "        print (\"%s == %s\" %(key, value))\n",
    " \n",
    "my_fun(\"Hi\", first ='python', mid ='for', last='physcists')   \n",
    "\n",
    "def my_fun(*args,**kwargs):\n",
    "    print(\"args: \", args)\n",
    "    print(\"kwargs: \", kwargs)\n",
    " \n",
    "my_fun('python','for','physcists',first=\"numpy\",mid=\"matplotlib\",last=\"Scypy\")"
   ]
  },
  {
   "cell_type": "markdown",
   "id": "1eb296c9-8d5b-4370-a708-aeb6142f3ce2",
   "metadata": {},
   "source": [
    "#### Directories and Files"
   ]
  },
  {
   "cell_type": "code",
   "execution_count": null,
   "id": "d2d68204-f261-43d5-80ab-a711da2717a6",
   "metadata": {},
   "outputs": [],
   "source": [
    "import os\n",
    "# get the actual current working directory\n",
    "cwd = os.getcwd()\n",
    "print(cwd)\n",
    "\n",
    "# import platform\n",
    "# platform.system()"
   ]
  },
  {
   "cell_type": "code",
   "execution_count": null,
   "id": "8c29aa49-da89-4153-9f99-82bd1c6d022a",
   "metadata": {
    "tags": []
   },
   "outputs": [],
   "source": [
    "#create a new directory\n",
    "course_dir = cwd \n",
    "data_dir = course_dir + \"\\data\"\n",
    "os.mkdir(data_dir)\n",
    "\n",
    "if not os.path.exists(data_dir):\n",
    "    os.mkdir(data_dir)"
   ]
  },
  {
   "cell_type": "code",
   "execution_count": null,
   "id": "5dd6b1c8-a570-40c4-91c2-722ca8c9ff53",
   "metadata": {},
   "outputs": [],
   "source": [
    "# collecting files \n",
    "import glob\n",
    "glob.glob(course_dir + \"\\\\*\\\\*.py\", recursive=True)"
   ]
  },
  {
   "cell_type": "code",
   "execution_count": null,
   "id": "edfc5038-b956-432d-b29a-76f79e5f2ae7",
   "metadata": {},
   "outputs": [],
   "source": [
    "# download file\n",
    "import requests\n",
    "# cheat sheet for jupyter\n",
    "url_jn_cheatsheet = \"https://www.anaconda.com/wp-content/uploads/2019/03/11-2018-JupyterLab-Notebook-Cheatsheet.pdf\"\n",
    "\n",
    "# URL of the image to be downloaded is defined as image_url\n",
    "r = requests.get(url_jn_cheatsheet) # create HTTP response object\n",
    "# the HTTP response in a response object called r\n",
    "with open(data_dir + \"\\JN_cheatsheet.pdf\",'wb') as f:\n",
    "    # write the contents of the response (r.content)\n",
    "    # to a new file in binary mode.\n",
    "    f.write(r.content)"
   ]
  },
  {
   "cell_type": "markdown",
   "id": "fef1e3c3-d2ae-4fae-8b1a-85916bb6823e",
   "metadata": {},
   "source": [
    "### Exceptions and context managers"
   ]
  },
  {
   "cell_type": "code",
   "execution_count": null,
   "id": "67fb6b6e-8775-493c-be99-47b1d8fecbb2",
   "metadata": {},
   "outputs": [],
   "source": [
    "def divide(x, y):\n",
    "    try:\n",
    "        result = x / y   \n",
    "    except ZeroDivisionError:\n",
    "        print(\"division by zero!\")\n",
    "    else:\n",
    "         print(\"result is\", result)\n",
    "    finally:\n",
    "         print(\"executing finally clause\")\n",
    "\n",
    "divide(2, 0)"
   ]
  },
  {
   "cell_type": "code",
   "execution_count": null,
   "id": "8bb08575-6ac9-484f-8e83-eb426d18cdb4",
   "metadata": {},
   "outputs": [],
   "source": [
    "x, y = 1, 2\n",
    "file = open(data_dir + \"\\hello.txt\", \"a\")\n",
    "file.write(f\"Hello, World!\\nThe division is {x/y}\")\n",
    "file.close()"
   ]
  },
  {
   "cell_type": "code",
   "execution_count": null,
   "id": "542970de-3a21-4111-a220-278f2a2f7444",
   "metadata": {
    "tags": []
   },
   "outputs": [],
   "source": [
    "x, y = 1, 2\n",
    "# context manager\n",
    "with open(data_dir + \"\\hello.txt\", \"a\") as f:\n",
    "    f.write(f\"Hello, World!\\nThe division is {x/y}\")"
   ]
  },
  {
   "cell_type": "code",
   "execution_count": null,
   "id": "2610189e-34d6-4e24-8304-e114802b951d",
   "metadata": {},
   "outputs": [],
   "source": [
    "import numpy as np\n",
    "import matplotlib.pyplot as plt\n",
    "import cv2\n",
    "\n",
    "# init an capture object linked to the camera\n",
    "cap = cv2.VideoCapture(0)\n",
    "# Capture frame\n",
    "ret, frame = cap.read()\n",
    "cv2.VideoCapture(0).release()"
   ]
  },
  {
   "cell_type": "code",
   "execution_count": null,
   "id": "24bf33ad-facc-4f1d-acfc-a7478a39619a",
   "metadata": {},
   "outputs": [],
   "source": [
    "plt.imshow(frame)"
   ]
  },
  {
   "cell_type": "code",
   "execution_count": null,
   "id": "de1762cb-ba7a-4585-b1d2-45ed5ae37482",
   "metadata": {},
   "outputs": [],
   "source": [
    "frame.shape"
   ]
  },
  {
   "cell_type": "code",
   "execution_count": null,
   "id": "b6e4b47c-7c7f-4876-9543-54ec1cc82501",
   "metadata": {},
   "outputs": [],
   "source": [
    "cv2.VideoCapture(0).release()\n",
    "cv2.VideoCapture(0).isOpened()"
   ]
  },
  {
   "cell_type": "code",
   "execution_count": null,
   "id": "75af1223-ff79-4a41-b36e-9474a8025dc4",
   "metadata": {},
   "outputs": [],
   "source": [
    "help(cv2.VideoCapture(0))"
   ]
  },
  {
   "cell_type": "code",
   "execution_count": null,
   "id": "9357a36f-2c43-4008-8f88-ac57c4a24a45",
   "metadata": {},
   "outputs": [],
   "source": []
  }
 ],
 "metadata": {
  "kernelspec": {
   "display_name": "Python 3 (ipykernel)",
   "language": "python",
   "name": "python3"
  },
  "language_info": {
   "codemirror_mode": {
    "name": "ipython",
    "version": 3
   },
   "file_extension": ".py",
   "mimetype": "text/x-python",
   "name": "python",
   "nbconvert_exporter": "python",
   "pygments_lexer": "ipython3",
   "version": "3.7.11"
  },
  "toc-autonumbering": true,
  "toc-showmarkdowntxt": false
 },
 "nbformat": 4,
 "nbformat_minor": 5
}
