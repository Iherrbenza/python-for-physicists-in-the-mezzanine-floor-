{
 "cells": [
  {
   "cell_type": "markdown",
   "id": "1571ae73-4d49-4aed-9d48-6c7bf1c46499",
   "metadata": {},
   "source": [
    "# Introduction to python for physicists in the mezzanine floor\n",
    "\n",
    "Ivan Herrera Benzaquen"
   ]
  },
  {
   "cell_type": "markdown",
   "id": "953533e9-fc03-402c-a08e-d4cd47363daa",
   "metadata": {},
   "source": [
    "## Software needed\n",
    "First of all, you want to install the python programming language. Also, I recommend JupyterLab as a convenient notebook interface for python programming. Depending on your taste and your system, you might want to download these individually or as part of a full distribution like Anaconda.\n",
    "\n",
    "An alternative, completely online solution is the Colaboratory platform by Google. This is a web-based jupyter notebook interface to python that comes with tensorflow & keras pre-installed and allows you to run your code for free on their GPU servers.\n",
    "\n",
    "A third alternative is deepnote. This is also a free online platform with a jupyter interface (and tensorflow & keras)."
   ]
  },
  {
   "cell_type": "markdown",
   "id": "b7fbca16-0932-4b1f-aba5-996c7105b11e",
   "metadata": {},
   "source": [
    "# The role of python in science"
   ]
  },
  {
   "cell_type": "code",
   "execution_count": null,
   "id": "8e007f2f-4e73-4d0a-8de4-9d94d9f9c247",
   "metadata": {},
   "outputs": [],
   "source": []
  }
 ],
 "metadata": {
  "kernelspec": {
   "display_name": "Python 3 (ipykernel)",
   "language": "python",
   "name": "python3"
  },
  "language_info": {
   "codemirror_mode": {
    "name": "ipython",
    "version": 3
   },
   "file_extension": ".py",
   "mimetype": "text/x-python",
   "name": "python",
   "nbconvert_exporter": "python",
   "pygments_lexer": "ipython3",
   "version": "3.7.11"
  }
 },
 "nbformat": 4,
 "nbformat_minor": 5
}
