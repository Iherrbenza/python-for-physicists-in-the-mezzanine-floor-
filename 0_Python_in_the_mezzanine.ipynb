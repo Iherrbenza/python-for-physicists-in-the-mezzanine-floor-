{
 "cells": [
  {
   "cell_type": "markdown",
   "id": "1571ae73-4d49-4aed-9d48-6c7bf1c46499",
   "metadata": {},
   "source": [
    "# Introduction to python for physicists in the mezzanine floor\n",
    "\n",
    "Ivan Herrera Benzaquen"
   ]
  },
  {
   "cell_type": "markdown",
   "id": "953533e9-fc03-402c-a08e-d4cd47363daa",
   "metadata": {
    "jp-MarkdownHeadingCollapsed": true,
    "tags": []
   },
   "source": [
    "## Software needed\n",
    "First of all, you want to install the python programming language. Also, I recommend JupyterLab as a convenient notebook interface for python programming. Depending on your taste and your system, you might want to download these individually or as part of a full distribution like Anaconda.\n",
    "\n",
    "An alternative, completely online solution is the Colaboratory platform by Google. This is a web-based jupyter notebook interface to python and allows you to run your code for free on their GPU servers.\n",
    "\n",
    "A third alternative is deepnote. This is also a free online platform with a jupyter interface."
   ]
  },
  {
   "cell_type": "markdown",
   "id": "b7fbca16-0932-4b1f-aba5-996c7105b11e",
   "metadata": {},
   "source": [
    "## The use of python in science\n",
    "Theory\n",
    "Analysis\n",
    "I/O instrumets for experimental setup"
   ]
  },
  {
   "cell_type": "markdown",
   "id": "82a93e47-3a14-47ba-9ead-7c4ebbb8c9bb",
   "metadata": {},
   "source": [
    "## What is Python?\n",
    "Python is a general-purpose, object-oriented, high-level programming language.\n",
    "\n",
    "* **dynamically typed:** \n",
    "* **automatic memory management:** \n",
    "* **interpreted:** "
   ]
  },
  {
   "cell_type": "markdown",
   "id": "a25dd17b-036c-4a02-9ecd-b47ff8fe0708",
   "metadata": {},
   "source": [
    "### advantages\n",
    "\n",
    "* The main advantage is ease of programming, minimizing the time required to develop, debug and maintain the code\n",
    "<img src=\"data/sketchy_graph.png\" width=\"600\">\n",
    "\n",
    "* Python has a strong position in scientific computing: \n",
    "    * Large community of users, easy to find help and documentation.\n",
    "\n",
    "* Set of well settled scientific libraries as:\n",
    "    * numpy: Numerical Python\n",
    "    * scipy: Scientific Python\n",
    "    * matplotlib: graphics library\n",
    "    *  and more\n",
    "    \n",
    "   "
   ]
  },
  {
   "cell_type": "markdown",
   "id": "c5af2e09-ada1-4d68-b5b7-83610b6e1439",
   "metadata": {
    "tags": []
   },
   "source": [
    "## Sofware package and stack"
   ]
  },
  {
   "cell_type": "markdown",
   "id": "2c5f0afd-0298-49e7-b2e5-fa894997030d",
   "metadata": {},
   "source": []
  },
  {
   "cell_type": "markdown",
   "id": "c55eca25-5720-4bed-852d-313a4c658a0f",
   "metadata": {},
   "source": []
  },
  {
   "cell_type": "markdown",
   "id": "234a26ef-e174-4a15-a0ef-3bfa9379b2f3",
   "metadata": {},
   "source": [
    "# What is Anaconda?"
   ]
  },
  {
   "cell_type": "code",
   "execution_count": 13,
   "id": "9811442c-8c0d-4b45-8e85-1fbb44c0d83a",
   "metadata": {},
   "outputs": [
    {
     "name": "stdout",
     "output_type": "stream",
     "text": [
      "Python 3.7.11\n"
     ]
    }
   ],
   "source": [
    "# versions \n",
    "!python --version"
   ]
  },
  {
   "cell_type": "code",
   "execution_count": 42,
   "id": "3f7c87f0-5a41-4aa3-bb69-9650f8953a2e",
   "metadata": {},
   "outputs": [],
   "source": [
    "# list packages\n",
    "!conda list"
   ]
  },
  {
   "cell_type": "code",
   "execution_count": 197,
   "id": "a75cca33-3d3e-4d69-ae95-512bd8e7cbf3",
   "metadata": {
    "tags": []
   },
   "outputs": [],
   "source": [
    "# dependencies\n",
    "!conda search numpy --info "
   ]
  },
  {
   "cell_type": "markdown",
   "id": "e87bcd40-d93f-4bac-b3dc-c799f9efe80a",
   "metadata": {
    "tags": []
   },
   "source": [
    "## Jupyter notebook\n",
    "info  \n",
    "https://jupyterlab.readthedocs.io/en/stable/user/interface.html  \n",
    "cheat sheet  \n",
    "https://www.anaconda.com/wp-content/uploads/2019/03/11-2018-JupyterLab-Notebook-Cheatsheet.pdf  "
   ]
  },
  {
   "cell_type": "markdown",
   "id": "426a0102-9b23-4834-9844-4d04e4f0555c",
   "metadata": {
    "tags": [],
    "toc-hr-collapsed": true
   },
   "source": [
    "### markdown"
   ]
  },
  {
   "cell_type": "markdown",
   "id": "53b2b2c5-2be4-47a9-b926-ae34cae8819d",
   "metadata": {},
   "source": [
    "#### headers"
   ]
  },
  {
   "cell_type": "markdown",
   "id": "c09fb3da-b88a-4281-9bfd-145c6e58af9f",
   "metadata": {
    "tags": []
   },
   "source": [
    "#### lists\n",
    "* This is a bullet list\n",
    "* This is a bullet list\n",
    "* This is a bullet list\n",
    "\n",
    "1. And you can also create ordered lists\n",
    "2. by using numbers\n",
    "3. and listing new items in the lists \n",
    "4. on their own lines"
   ]
  },
  {
   "cell_type": "markdown",
   "id": "b51d4b57-8eb7-46ef-9033-2a43f5f9ca83",
   "metadata": {
    "tags": []
   },
   "source": [
    "#### block quotes\n",
    "> this a block quote  \n",
    "> here as well\n",
    "\n",
    "> And also can be nested\n",
    ">> like this\n",
    ">>>This is [a reference] [identification tag for link]\n",
    "\n",
    "[identification tag for link]: http://en.wikipedia.org/wiki/Chile \"Wikipedia Article About Chile\" even more"
   ]
  },
  {
   "cell_type": "markdown",
   "id": "454c5059-3dc4-4c72-a9d2-570833dee9d2",
   "metadata": {},
   "source": [
    "#### reference links\n",
    "This is [a reference] [chile]\n",
    "\n",
    "[chile]: http://en.wikipedia.org/wiki/Chile \"Wikipedia Article About Chile\" "
   ]
  },
  {
   "cell_type": "markdown",
   "id": "767367c5-5c83-4855-8106-114db7e99523",
   "metadata": {
    "tags": []
   },
   "source": [
    "#### tables\n",
    "|Header|Header|Header|Header|\n",
    "|------|------|------|------|\n",
    "|Cell  |Cell  |Cell  | Cell |\n",
    "|Cell  |Cell  |Cell  | Cell |\n",
    "|Cell  |Cell  |Cell  | Cell |\n",
    "|Cell  |Cell  |Cell  | Cell |"
   ]
  },
  {
   "cell_type": "markdown",
   "id": "a5b2c07e-29f6-4214-b6bb-c6f57d204eaf",
   "metadata": {
    "tags": []
   },
   "source": [
    "#### style and emphasis\n",
    "*Italics*  _Italics_ **Bold** __Bold__"
   ]
  },
  {
   "cell_type": "markdown",
   "id": "439b324c-070f-4590-90f5-821cdf35d216",
   "metadata": {},
   "source": [
    "#### code\n",
    "The word ```monospace``` will appear in a code-like form.\n",
    "```python\n",
    "def function(n):\n",
    "    return n + 1\n",
    "```"
   ]
  },
  {
   "cell_type": "markdown",
   "id": "387f6fd2-6231-4d54-b386-e13ef50f8372",
   "metadata": {},
   "source": [
    "#### LaTeX math\n",
    "$z=\\dfrac{2x}{3y}$  \n",
    "\n",
    "$F(k) = \\int_{-\\infty}^{\\infty} f(x) e^{2\\pi i k} dx$\n",
    "\n",
    "$$2x+3y=z$$"
   ]
  },
  {
   "cell_type": "markdown",
   "id": "3906ba01-3e16-44ac-b854-ed9e4d5e927c",
   "metadata": {},
   "source": [
    "#### images\n",
    "![][beta_dec]\n",
    "\n",
    "[beta_dec]:https://upload.wikimedia.org/wikipedia/commons/a/aa/Beta-minus_Decay.svg \"showing beta-minus decay.\""
   ]
  },
  {
   "cell_type": "markdown",
   "id": "c8679d6a-5641-44cf-b231-dd43d143ecf8",
   "metadata": {},
   "source": [
    "### videos"
   ]
  },
  {
   "cell_type": "code",
   "execution_count": 198,
   "id": "dc6346e2-e780-45ae-aec5-f2e4581b2ced",
   "metadata": {},
   "outputs": [],
   "source": [
    "from IPython.display import YouTubeVideo\n",
    "YouTubeVideo(\"l0Zc7jhEcLg\", 800, 500)"
   ]
  },
  {
   "cell_type": "markdown",
   "id": "4960a560-2771-4cb2-9b5a-755bda2e2e2a",
   "metadata": {},
   "source": [
    "### magic commands\n",
    "https://ipython.readthedocs.io/en/stable/interactive/magics.html"
   ]
  },
  {
   "cell_type": "code",
   "execution_count": 35,
   "id": "d4fafc8a-7762-441a-8332-fcf0b64f6ef0",
   "metadata": {},
   "outputs": [
    {
     "name": "stdout",
     "output_type": "stream",
     "text": [
      "Wall time: 2.99 ms\n",
      "2.23 ms ± 3.91 µs per loop (mean ± std. dev. of 7 runs, 100 loops each)\n"
     ]
    }
   ],
   "source": [
    "n = 100000\n",
    "%time sum(range(n))\n",
    "%timeit sum(range(n))"
   ]
  },
  {
   "cell_type": "code",
   "execution_count": 28,
   "id": "14401ca8-a23c-409d-be7b-c1a3c1a45848",
   "metadata": {
    "collapsed": true,
    "jupyter": {
     "outputs_hidden": true
    },
    "tags": []
   },
   "outputs": [
    {
     "name": "stdout",
     "output_type": "stream",
     "text": [
      "   4:\n",
      "#create a new directory\n",
      "course_dir = cwd + \"\\python-for-physicists-in-the-mezzanine-floor-\"\n",
      "data_dir = course_dir + \"\\data\"\n",
      "os.mkdir(data_dir)\n",
      "\n",
      "# if not os.path.exists(data_dir):\n",
      "#     os.mkdir(data_dir)\n",
      "   5:\n",
      "#create a new directory\n",
      "course_dir = cwd + \"\\python-for-physicists-in-the-mezzanine-floor-\"\n",
      "data_dir = course_dir + \"\\data\"\n",
      "os.mkdir(data_dir)\n",
      "\n",
      "if not os.path.exists(data_dir):\n",
      "    os.mkdir(data_dir)\n",
      "   6:\n",
      "#create a new directory\n",
      "course_dir = cwd + \"\\python-for-physicists-in-the-mezzanine-floor-\"\n",
      "data_dir = course_dir + \"\\data\"\n",
      "# os.mkdir(data_dir)\n",
      "\n",
      "if not os.path.exists(data_dir):\n",
      "    os.mkdir(data_dir)\n"
     ]
    }
   ],
   "source": [
    "%history -n 4-6"
   ]
  },
  {
   "cell_type": "code",
   "execution_count": 37,
   "id": "eed6f72e-1a9d-45f7-8793-053beb68d07c",
   "metadata": {},
   "outputs": [
    {
     "name": "stdout",
     "output_type": "stream",
     "text": [
      "HTML\t YouTubeVideo\t ax\t course_dir\t cwd\t dataXHL\t dataXLL\t dataXLLL\t dataYHL\t \n",
      "dataYLL\t dataYLLL\t data_dir\t f\t fig\t fm\t fname\t m\t n\t \n",
      "np\t os\t plt\t prop\t r\t requests\t url_jn_cheatsheet\t \n"
     ]
    },
    {
     "data": {
      "text/plain": [
       "['n']"
      ]
     },
     "execution_count": 37,
     "metadata": {},
     "output_type": "execute_result"
    }
   ],
   "source": [
    "%who\n",
    "%who_ls int"
   ]
  },
  {
   "cell_type": "markdown",
   "id": "93a8314d-caa3-4728-953f-6c060ea1b5cb",
   "metadata": {},
   "source": [
    "## Basic Python"
   ]
  },
  {
   "cell_type": "markdown",
   "id": "18224145-467f-4764-b8db-b30f9ce67072",
   "metadata": {},
   "source": [
    "#### data types"
   ]
  },
  {
   "cell_type": "markdown",
   "id": "5e110557-1c55-47da-9069-a9d8d5547b5c",
   "metadata": {},
   "source": [
    "#### basic operations"
   ]
  },
  {
   "cell_type": "markdown",
   "id": "7f85ce0a-e108-43cc-89c1-a86b7c664bad",
   "metadata": {
    "tags": []
   },
   "source": [
    "#### print and format"
   ]
  },
  {
   "cell_type": "markdown",
   "id": "88c0a9d8-59d3-4fc4-9887-6a6c70755af3",
   "metadata": {},
   "source": [
    "#### strings"
   ]
  },
  {
   "cell_type": "markdown",
   "id": "fc40a643-f12e-43ff-a1d4-56180783c49f",
   "metadata": {},
   "source": [
    "#### iterations and flow"
   ]
  },
  {
   "cell_type": "markdown",
   "id": "5c7d563c-9140-4665-a0f9-f1591ebbfd36",
   "metadata": {},
   "source": [
    "#### "
   ]
  },
  {
   "cell_type": "markdown",
   "id": "16044dee-2332-4522-a183-a25273b793ad",
   "metadata": {},
   "source": [
    "#### list comprehesions"
   ]
  },
  {
   "cell_type": "code",
   "execution_count": 190,
   "id": "a3f5d3b0-5563-4b7a-a71a-f6540f71ebbc",
   "metadata": {},
   "outputs": [
    {
     "name": "stdout",
     "output_type": "stream",
     "text": [
      "[0, 0, 4, 0, 16]\n"
     ]
    }
   ],
   "source": [
    "mylist = []\n",
    "for x in range(5):\n",
    "    mylist.append(x*x)\n",
    "\n",
    "\n",
    "# list comprehesion form\n",
    "mylist = [x*x for x in range(5)]\n",
    "\n",
    "# list comprehesions with conditionals\n",
    "mylist = [x*x for x in range(5) if x%2 == 0]\n",
    "\n",
    "mylist = [x*x if x%2 == 0 else 0 for x in range(5)]\n",
    "\n",
    "print(mylist)"
   ]
  },
  {
   "cell_type": "markdown",
   "id": "1d9898d9-f0df-46a8-ad43-7051d126ca77",
   "metadata": {},
   "source": [
    "#### itertools, your best friend"
   ]
  },
  {
   "cell_type": "code",
   "execution_count": 196,
   "id": "491f18d3-305c-4fb7-be9e-36e2d2a177ff",
   "metadata": {},
   "outputs": [
    {
     "name": "stdout",
     "output_type": "stream",
     "text": [
      "[(0, 'A'), (1, 'B'), (2, 'C')]\n",
      "[('A', 'a'), ('B', 'b'), ('C', 'c')]\n",
      "product  [('A', 'A'), ('A', 'B'), ('A', 'C'), ('B', 'A'), ('B', 'B'), ('B', 'C'), ('C', 'A'), ('C', 'B'), ('C', 'C')]\n",
      "permutations  [('A', 'B'), ('A', 'C'), ('B', 'A'), ('B', 'C'), ('C', 'A'), ('C', 'B')]\n",
      "combinations  [('A', 'B'), ('A', 'C'), ('B', 'C')]\n"
     ]
    }
   ],
   "source": [
    "pll = list(enumerate([\"A\", \"B\", \"C\"]))\n",
    "print(pll)\n",
    "\n",
    "pll = list(zip([\"A\", \"B\", \"C\"], [\"a\", \"b\", \"c\"]))\n",
    "print(pll)\n",
    "\n",
    "import itertools\n",
    "prd = list( itertools.product(\"ABC\",  repeat=2) )\n",
    "print(\"product \", prd)\n",
    "per = list( itertools.permutations(\"ABC\",  2) )\n",
    "print(\"permutations \", per)\n",
    "comb = list( itertools.combinations(\"ABC\", 2) )\n",
    "print(\"combinations \", comb)"
   ]
  },
  {
   "cell_type": "markdown",
   "id": "1eb296c9-8d5b-4370-a708-aeb6142f3ce2",
   "metadata": {},
   "source": [
    "#### Directories and Files"
   ]
  },
  {
   "cell_type": "code",
   "execution_count": 3,
   "id": "d2d68204-f261-43d5-80ab-a711da2717a6",
   "metadata": {},
   "outputs": [
    {
     "name": "stdout",
     "output_type": "stream",
     "text": [
      "C:\\Users\\Ivan\\SynologyDrive\\Teaching\\Python_in_the_mezzanine\n"
     ]
    }
   ],
   "source": [
    "import os\n",
    "# get the actual current working directory\n",
    "cwd = os.getcwd()\n",
    "print(cwd)\n",
    "\n",
    "# import platform\n",
    "# platform.system()"
   ]
  },
  {
   "cell_type": "code",
   "execution_count": 8,
   "id": "8c29aa49-da89-4153-9f99-82bd1c6d022a",
   "metadata": {},
   "outputs": [],
   "source": [
    "#create a new directory\n",
    "course_dir = cwd + \"\\python-for-physicists-in-the-mezzanine-floor-\"\n",
    "data_dir = course_dir + \"\\data\"\n",
    "os.mkdir(data_dir)\n",
    "\n",
    "# if not os.path.exists(data_dir):\n",
    "#     os.mkdir(data_dir)"
   ]
  },
  {
   "cell_type": "code",
   "execution_count": 9,
   "id": "edfc5038-b956-432d-b29a-76f79e5f2ae7",
   "metadata": {},
   "outputs": [],
   "source": [
    "# download file\n",
    "import requests\n",
    "# cheat sheet for jupyter\n",
    "url_jn_cheatsheet = \"https://www.anaconda.com/wp-content/uploads/2019/03/11-2018-JupyterLab-Notebook-Cheatsheet.pdf\"\n",
    "\n",
    "# URL of the image to be downloaded is defined as image_url\n",
    "r = requests.get(url_jn_cheatsheet) # create HTTP response object\n",
    "\n",
    "# the HTTP response in a response object called r\n",
    "with open(data_dir + \"\\JN_cheatsheet.pdf\",'wb') as f:\n",
    "    # write the contents of the response (r.content)\n",
    "    # to a new file in binary mode.\n",
    "    f.write(r.content)"
   ]
  },
  {
   "cell_type": "code",
   "execution_count": 137,
   "id": "183a08cc-2bf7-4171-a8ac-4fc1609514dd",
   "metadata": {},
   "outputs": [
    {
     "data": {
      "image/png": "[encoded data removed]",
      "text/plain": [
       "<Figure size 720x360 with 1 Axes>"
      ]
     },
     "metadata": {},
     "output_type": "display_data"
    }
   ],
   "source": [
    "import matplotlib.pyplot as plt\n",
    "import numpy as np\n",
    "import matplotlib.font_manager as fm\n",
    "\n",
    "# download a the humor font\n",
    "fname = data_dir + \"\\Humor-Sans.ttf\"\n",
    "if not os.path.exists(fname): \n",
    "    url_font = 'http://antiyawn.com/uploads/Humor-Sans-1.0.ttf'\n",
    "    r = requests.get(url_font)\n",
    "    with open(fname,'wb') as f:   \n",
    "        f.write(r.content)\n",
    "\n",
    "\n",
    "dataXHL = np.arange(0.1, 10, 0.1)\n",
    "dataYHL = np.exp(-(0.7*dataXHL)) + 0.3\n",
    "dataXLL = np.arange(3, 10, 0.1)\n",
    "dataYLL = np.exp(-(1*(dataXLL - 2))) + 0.15\n",
    "dataXLLL = np.arange(5, 10, 0.1)\n",
    "dataYLLL = np.exp(-(0.8*(dataXLLL - 3))) + 0.1\n",
    "\n",
    "with plt.xkcd():\n",
    "    # Based on \"Stove Ownership\" from XKCD by Randall Munroe\n",
    "    \n",
    "    fig, ax = plt.subplots(figsize=(10,5))\n",
    "    # set spines invisible \n",
    "    ax.spines[:].set_visible(False)\n",
    "    # eliminate ticks\n",
    "    ax.set_xticks([])\n",
    "    ax.set_yticks([])\n",
    "    \n",
    "    # Change all the fonts to humor-sans.\n",
    "    prop = fm.FontProperties(fname=data_dir + \"\\Humor-Sans.ttf\", size=16)\n",
    "    \n",
    "    ax.set_xlim([-0.5, 10])\n",
    "    ax.set_ylim([-.05, 1])\n",
    "   \n",
    "    ax.plot(dataXHL, dataYHL, color=\"r\", label=\"HIGH-LEVEL LENGUAGE\")\n",
    "    ax.plot(dataXLL, dataYLL, color=\"b\", label=\"LOW-LEVEL LENGUAGE\")\n",
    "    ax.plot(dataXLLL, dataYLLL, color=\"g\", label=\"LOWLOW-LEVEL LENGUAGE\")\n",
    "    \n",
    "    ax.annotate('',\n",
    "        xy=(0, 1), arrowprops=dict(arrowstyle='->'), xytext=(0, -0.1))\n",
    "    ax.annotate('',\n",
    "        xy=(10, 0), arrowprops=dict(arrowstyle='->'), xytext=(-0.5, 0))\n",
    "\n",
    "    ax.set_xlabel('DEVELOPMENT\\nTIME', position=(1,0), rotation=2,  fontproperties=prop)\n",
    "    ax.set_ylabel('CPU\\nTIME', position=(0, 0.8), rotation=12, fontproperties=prop)\n",
    "    plt.legend(prop=prop, loc='upper right')\n",
    "    \n",
    "plt.savefig(data_dir +\"\\\\scketchy_graph.png\")"
   ]
  },
  {
   "cell_type": "code",
   "execution_count": 149,
   "id": "4a8df29e-1c46-4c62-8457-40f838b80eed",
   "metadata": {},
   "outputs": [
    {
     "data": {
      "image/png": "[encoded data removed]",
      "text/plain": [
       "<Figure size 720x720 with 1 Axes>"
      ]
     },
     "metadata": {},
     "output_type": "display_data"
    }
   ],
   "source": [
    "import matplotlib.pyplot as plt\n",
    "import numpy as np\n",
    "import matplotlib.font_manager as fm\n",
    "\n",
    "# download a the humor font\n",
    "fname = data_dir + \"\\Humor-Sans.ttf\"\n",
    "if not os.path.exists(fname): \n",
    "    url_font = 'http://antiyawn.com/uploads/Humor-Sans-1.0.ttf'\n",
    "    r = requests.get(url_font)\n",
    "    with open(fname,'wb') as f:   \n",
    "        f.write(r.content)\n",
    "\n",
    "\n",
    "dim = [10, 10]\n",
    "margin = 2\n",
    "\n",
    "with plt.xkcd():\n",
    "    # Based on \"Stove Ownership\" from XKCD by Randall Munroe\n",
    "    \n",
    "    fig, ax = plt.subplots(figsize=(10,10))\n",
    "    # set spines invisible \n",
    "    ax.spines[:].set_visible(False)\n",
    "    # eliminate ticks\n",
    "    ax.set_xticks([])\n",
    "    ax.set_yticks([])\n",
    "    \n",
    "    # Change all the fonts to humor-sans.\n",
    "    prop = fm.FontProperties(fname=data_dir + \"\\Humor-Sans.ttf\", size=16)\n",
    "    \n",
    "    ax.set_xlim([-dim[0]/2, dim[0]/2])\n",
    "    ax.set_ylim([-dim[1]/2, dim[1]/2])\n",
    "        \n",
    "    n_l1 = 3\n",
    "    for i in range(n_l1):\n",
    "            \n",
    "            step = (dim[1] - 2 * margin ) / n_l1 \n",
    "            y_pos = (dim[1] / 2 - margin - step/2) - step * i\n",
    "            ax.text(\n",
    "                0, y_pos, f\"n{i}\", ha=\"center\", va=\"center\", rotation=0, size=20, fontproperties=prop,\n",
    "            bbox=dict(boxstyle=\"circle,pad=0.5\", fc=\"cyan\", ec=\"b\", lw=2))\n",
    "            \n",
    "            ax.annotate('s',\n",
    "            xy=(0, y_pos), arrowprops=dict(arrowstyle='simple', color='g',shrinkA=10,shrinkB=25, connectionstyle=\"angle3\"), \n",
    "                        xytext=(-dim[0]/2 + margin, 0), size=30)\n",
    "            \n",
    "    # input\n",
    "    ax.text(\n",
    "        -dim[0]/2 + margin, 0, \"Input\\nY\", ha=\"center\", va=\"center\", rotation=0, size=20, fontproperties=prop,\n",
    "        bbox=dict(boxstyle=\"round4, pad=0.5\", fc=\"cyan\", ec=\"b\", lw=2))\n",
    "    \n",
    "plt.savefig(data_dir + \"\\\\netw0_graph.png\")"
   ]
  },
  {
   "cell_type": "code",
   "execution_count": null,
   "id": "67f6bbee-7cc6-40aa-a9c6-aa8ab897c2d1",
   "metadata": {},
   "outputs": [],
   "source": []
  }
 ],
 "metadata": {
  "kernelspec": {
   "display_name": "Python 3 (ipykernel)",
   "language": "python",
   "name": "python3"
  },
  "language_info": {
   "codemirror_mode": {
    "name": "ipython",
    "version": 3
   },
   "file_extension": ".py",
   "mimetype": "text/x-python",
   "name": "python",
   "nbconvert_exporter": "python",
   "pygments_lexer": "ipython3",
   "version": "3.7.11"
  },
  "toc-autonumbering": true,
  "toc-showmarkdowntxt": false
 },
 "nbformat": 4,
 "nbformat_minor": 5
}
