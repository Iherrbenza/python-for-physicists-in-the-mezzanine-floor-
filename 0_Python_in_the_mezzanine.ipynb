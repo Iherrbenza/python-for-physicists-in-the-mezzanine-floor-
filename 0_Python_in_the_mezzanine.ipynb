{
 "cells": [
  {
   "cell_type": "markdown",
   "id": "1571ae73-4d49-4aed-9d48-6c7bf1c46499",
   "metadata": {},
   "source": [
    "<b style=\"font-size:50px;color:#2196F3;\">Introduction to python for physicists in the mezzanine floor</b>  \n",
    "<b style=\"font-size:30px;color:#2196F3;\">notebook_0_introduction</b>\n",
    "\n",
    "Ivan Herrera Benzaquen \n",
    "\n",
    "This notebooks are created with the intention to give a practical introduction to python programming language for a scientist.   \n",
    "I going to give a very personal vision of it, specially ho i become a swiss knife tool for me as a experimental-physcisist.  \n",
    "\n",
    "In this 1st notebook I'll what is python for me and how I work with it. \n",
    "In particular:\n",
    "* Motivation for learning python\n",
    "* Basic structure and characteristics of the language\n",
    "* How to work with packages and eviroments\n",
    "* How to work  with a jupyter notebooks\n",
    "\n",
    "The notebooks in this series are at https://github.com/Iherrbenza/python-for-physicists-in-the-mezzanine-floor-."
   ]
  },
  {
   "cell_type": "markdown",
   "id": "953533e9-fc03-402c-a08e-d4cd47363daa",
   "metadata": {
    "tags": []
   },
   "source": [
    "<b style='font-size:20px;'>Software needed for this intro</b>\n",
    "    \n",
    "First of all, you want to install the python programming language. Also, I recommend JupyterLab as a convenient notebook interface for python programming. \n",
    "\n",
    "Depending on your taste and your system, you might want to download these individually or as part of a full distribution like Anaconda.  \n",
    "The full distro in https://www.anaconda.com/products/individual. Bottom of the page, the installation links for each system.\n",
    "\n",
    "Miniconda is a minimal istallation of python envioroment, you will need to install the libraries you need.\n",
    "https://docs.conda.io/en/latest/miniconda.html\n",
    "\n",
    "Jupyter lab o jupyter notebook\n",
    "https://jupyter.org/install.html\n",
    "https://jupyter.readthedocs.io/en/latest/install.html\n",
    "\n",
    "An alternative, completely online solution is the Colaboratory platform by Google.  \n",
    "https://colab.research.google.com/notebooks/intro.ipynb?utm_source=scs-index#recent=true\n",
    "This is a web-based jupyter notebook interface to python and allows you to run your code for free on their GPU servers.\n",
    "\n",
    "A third alternative is deepnote. This is also a free online platform with a jupyter interface.\n",
    "https://deepnote.com/dashboard"
   ]
  },
  {
   "cell_type": "markdown",
   "id": "e46094c4-257e-48f7-86a6-c3bdd7d6ef6a",
   "metadata": {},
   "source": [
    "# How I work with python  🐍"
   ]
  },
  {
   "cell_type": "markdown",
   "id": "b7fbca16-0932-4b1f-aba5-996c7105b11e",
   "metadata": {},
   "source": [
    "## The use of python in science\n",
    "\n",
    "Is it a way to learn just one tool to rule all?\n",
    "\n",
    "**Computation models**\n",
    "* sympy\n",
    "* numpy\n",
    "* matplolib\n",
    "* _etc_\n",
    "\n",
    "**Analysis data**\n",
    "* numpy\n",
    "* matplotlib\n",
    "* pandas\n",
    "* scipy\n",
    "* scikit-learn\n",
    "* _etc_\n",
    "\n",
    "**I/O instrumets for experimental setup**\n",
    "* pyserial\n",
    "* pyvisa\n",
    "* opencv\n",
    "* socket\n",
    "* _etc_\n"
   ]
  },
  {
   "cell_type": "markdown",
   "id": "a25dd17b-036c-4a02-9ecd-b47ff8fe0708",
   "metadata": {
    "tags": []
   },
   "source": [
    "### advantages\n",
    "\n",
    "* Easy programming, minimizing the time required to develop, debug and maintain the code.\n",
    "<img src=\"data\\sketchy_graph.png\" width=\"600\">\n",
    "\n",
    "* Python has a strong position in scientific computing.\n",
    "  Large community of users, easy to find help and documentation.\n",
    "  \n",
    "* Set of well settled scientific libraries, as.\n",
    "    * numpy: Numerical Python\n",
    "    * scipy: Scientific Python\n",
    "    * matplotlib: graphics library\n",
    "    *  _and more_\n",
    "    \n",
    "* Python is a very healthy language.  \n",
    "  Is in a rising phase so it's worth to invest time on learn it, not going to die soon.  \n",
    "  1st language in the [Tiobe list](https://www.tiobe.com/tiobe-index/)\n",
    "  <img src=https://www.techrepublic.com/a/hub/i/r/2021/10/11/9529e5f5-503a-4327-8f57-41bb631e880e/resize/770x/9be188fdd9d426b0afdc317849f07c54/tiobe-oct21.jpg>"
   ]
  },
  {
   "cell_type": "markdown",
   "id": "5e637fc7-bc92-4e25-84c3-73f3a30ac318",
   "metadata": {},
   "source": [
    "### disadvantages\n",
    "\n",
    "* Not very focus, other programing languages will perform better on the specific tasks.\n",
    "  But you can create wrappers aroung libraries to make perform better. \n",
    "  Emmbeding C libraries (numpy, camera programs), automation of web pages.\n",
    "\n",
    "* Not easy as Labview to create GUI. \n",
    "  But more flexible.\n",
    "  \n",
    "* It's becoming too much popular.  \n",
    "  Watch the hackers!  😈"
   ]
  },
  {
   "cell_type": "markdown",
   "id": "82a93e47-3a14-47ba-9ead-7c4ebbb8c9bb",
   "metadata": {},
   "source": [
    "## What is Python?\n",
    "Python is a general-purpose, object-oriented, high-level programming language.\n",
    "\n",
    "* **dynamically typed: no need to declare a variable** \n",
    "* **automatic memory management: no need to manage the memory stacks** \n",
    "* **interpreted: compliled in-time** "
   ]
  },
  {
   "cell_type": "markdown",
   "id": "c5af2e09-ada1-4d68-b5b7-83610b6e1439",
   "metadata": {
    "tags": []
   },
   "source": [
    "## Sofware package and stack.\n",
    "\n",
    "The python sofware is built on a stack of packages, you can use the libraries already built.\n",
    "\n",
    "<img src=\"data\\python_stack.png\" width=\"600\">"
   ]
  },
  {
   "cell_type": "markdown",
   "id": "c55eca25-5720-4bed-852d-313a4c658a0f",
   "metadata": {},
   "source": [
    "importing packages\n",
    "```python\n",
    "import numpy as np\n",
    "np.arange(10)\n",
    "\n",
    "import math\n",
    "x = math.cos(2 * pi)\n",
    "\n",
    "from math import *\n",
    "x = cos(2 * pi)\n",
    "\n",
    "from math import cos, pi\n",
    "x = cos(2 * pi)\n",
    "\n",
    "import myscripts.py\n",
    "```\n",
    "What code is execute if I import a file.\n",
    "At the en of the file;\n",
    "```python\n",
    "def my_function():\n",
    "    #do what you want\n",
    "    return()\n",
    "if __name__ == \"__main__\":\n",
    "    my_function()\n",
    "````\n",
    "When I imported\n",
    "```python\n",
    "import myscripts\n",
    " \n",
    "myscripts.my_function()\n",
    "```\n"
   ]
  },
  {
   "cell_type": "code",
   "execution_count": null,
   "id": "bdfbd604-66ee-4b75-9fa6-03f3da56dfb0",
   "metadata": {},
   "outputs": [],
   "source": [
    "# to import files from othe directories you need to add\n",
    "# the path to the system file\n",
    "\n",
    "import sys, os\n",
    "cwd = os.getcwd()\n",
    "print(cwd)\n",
    "sys.path.append(cwd + '\\data')\n",
    "from ANN_sketchy import *"
   ]
  },
  {
   "cell_type": "code",
   "execution_count": null,
   "id": "697c60d4-dff3-4893-b2ad-c1d58d9f0221",
   "metadata": {},
   "outputs": [],
   "source": [
    "do_graph()"
   ]
  },
  {
   "cell_type": "markdown",
   "id": "234a26ef-e174-4a15-a0ef-3bfa9379b2f3",
   "metadata": {},
   "source": [
    "## What is Anaconda? PyPI & pip vs conda  \n",
    "\n",
    "Whats pip? https://pypi.org/  \n",
    "**PyPI:** Python Package Index   \n",
    "**pip:** tool for installing Python packages from PyPI\n",
    "\n",
    "Whats Anaconda?  https://www.anaconda.com/products/individual"
   ]
  },
  {
   "cell_type": "code",
   "execution_count": null,
   "id": "9811442c-8c0d-4b45-8e85-1fbb44c0d83a",
   "metadata": {
    "tags": []
   },
   "outputs": [],
   "source": [
    "# versions \n",
    "!python --version"
   ]
  },
  {
   "cell_type": "code",
   "execution_count": null,
   "id": "3f7c87f0-5a41-4aa3-bb69-9650f8953a2e",
   "metadata": {},
   "outputs": [],
   "source": [
    "# list packages\n",
    "!conda list"
   ]
  },
  {
   "cell_type": "code",
   "execution_count": null,
   "id": "6f61ef98-8c5c-4d0d-872a-b78380d788cc",
   "metadata": {
    "tags": []
   },
   "outputs": [],
   "source": [
    "lp = !conda list\n",
    "l = [print(i) for i in lp if 'matplotlib' in i] "
   ]
  },
  {
   "cell_type": "code",
   "execution_count": null,
   "id": "3b54dd39-c928-4d0c-9790-e84da0873a6e",
   "metadata": {
    "tags": []
   },
   "outputs": [],
   "source": [
    "# dependencies\n",
    "!conda search sympy=1.8 --info "
   ]
  },
  {
   "cell_type": "markdown",
   "id": "9aaee4db-437c-4831-8c3b-ebcc194d6020",
   "metadata": {},
   "source": [
    "### usual conda commands"
   ]
  },
  {
   "cell_type": "markdown",
   "id": "ec71029d-2fb6-4fc6-b416-9e2edb315cda",
   "metadata": {},
   "source": [
    "Conda is the program in the command line interface (CLI) for manage packages and envioroments\n",
    "\n",
    "install a package;  \n",
    "```conda install package_name=3.5.6```  \n",
    "update a conda;  \n",
    "```conda update conda```  \n",
    "update package;  \n",
    "```conda update numpy```  \n",
    "update all;  \n",
    "```conda update all```\n",
    "\n",
    "more in the cheat sheet, [conda_sheet](https://docs.conda.io/projects/conda/en/4.6.0/_downloads/52a95608c49671267e40c689e0bc00ca/conda-cheatsheet.pdf)  "
   ]
  },
  {
   "cell_type": "markdown",
   "id": "7928201a-7521-4c0f-a270-d0c301d196a4",
   "metadata": {},
   "source": [
    "### conda enviroments\n",
    "\n",
    "A way to solve dependecies is to create a new enviroment, new python installation (only the core libraries)\n",
    "\n",
    "create an enviroment  \n",
    "```conda create --name py35 python=3.5```  \n",
    "A enviorment py35 has been created with a python 3.5 on it  \n",
    "```conda env list```  \n",
    "List the envioroment you have  \n",
    "```conda activate py35```  \n",
    "change to the new envioroment  \n",
    "```conda install package_name=3.9.0```  \n",
    "this will install the packge in the activated enviroment  "
   ]
  },
  {
   "cell_type": "markdown",
   "id": "47bbcefb-e4c2-472c-be4a-4b4f7832a943",
   "metadata": {},
   "source": [
    "### python virtual enviroment\n",
    "\n",
    "Has a different architecture, you create a folder where you run a protected python enviroment, python and its packages will be download in this folder.\n",
    "The Dy labscript has this mechanic, so it's safe to update or install new pakges out of this folder/virtualenviroment.\n"
   ]
  },
  {
   "cell_type": "markdown",
   "id": "78fecf45-9f85-4d59-b7c5-3b17b045d258",
   "metadata": {},
   "source": [
    "## Documentation, where to get info\n",
    "\n",
    "Each package can have it's own webpage with documentation. This can be well done, easy language, full explanations, tutorials, examples etc.\n",
    "Or could be very short, complicated language, or non-existent documentation.\n",
    "Examples: \n",
    "* python https://www.python.org/\n",
    "* numpy https://numpy.org/\n",
    "* pandas https://pandas.pydata.org/docs/index.html\n",
    "* matplotlib https://matplotlib.org/stable/index.html\n",
    "* scipy https://www.scipy.org/\n",
    "* scikit-learn https://scikit-learn.org/stable/\n",
    "\n",
    "Stackoverflow is another resource to look for direct solutions to questions, very practical.\n",
    "https://stackoverflow.com/\n",
    "Or just google it!"
   ]
  },
  {
   "cell_type": "markdown",
   "id": "0104a984-0f04-4a58-8870-994788b4a817",
   "metadata": {
    "tags": []
   },
   "source": [
    "##  IDEs and Interpreters\n",
    "\n",
    "IDEs (integrated development environment)\n",
    "To edit .py I use/used:\n",
    "* Atom: very nice interface, full of plugins, have an atom as a brand 😃⚛️. can be annoying to maintain.  \n",
    "* Sublime: very lightweight, nice interface, just a txt editor.\n",
    "* Visual Studio Code: nice interface (has improved), full of features (but this can be a problem), widly used. It's from microsoft, the evil. 🤑\n",
    "* IDLE: comes with just python very simple  🤷‍♂️ \n",
    "\n",
    "* spyder: matlab interface for python, plenty of things. very heavy (always give me problems), could be misleading and hide the potentialities of python.\n",
    "* _etc_\n",
    "\n",
    "__Terminals__, that terrible thing..\n",
    "\n",
    "store your code in a .py file and execute it from the terminal.\n",
    "\n",
    "direct execution, interpreters:\n",
    "```python```\n",
    "```IPython```"
   ]
  },
  {
   "cell_type": "markdown",
   "id": "e87bcd40-d93f-4bac-b3dc-c799f9efe80a",
   "metadata": {
    "tags": []
   },
   "source": [
    "## Jupyter notebook\n",
    "\n",
    "<img src=https://raw.githubusercontent.com/ipython/ipython/6.x/examples/images/FrontendKernel.png title=\"from  https://github.com/ipython/\"/>\n",
    "\n",
    "I found myself using Jupyter notebooks for editing python code  \n",
    "The best thing for me: __try and error small pieces of code.__\n",
    "    \n",
    "Other good points of Jupyter lab are:\n",
    "* inline visualization of graphs and tables\n",
    "* work-diary style\n",
    "    \n",
    "More info about jupyter project [info conda](https://jupyterlab.readthedocs.io/en/stable/user/interface.html)  \n",
    "The cheatsheet to use jupyter lab from the terminal [cheat sheet  conda](https://www.anaconda.com/wp-content/uploads/2019/03/11-2018-JupyterLab-Notebook-Cheatsheet.pdf)\n"
   ]
  },
  {
   "cell_type": "markdown",
   "id": "bdbc1091-90d8-41fa-82db-90ff34db03de",
   "metadata": {
    "tags": []
   },
   "source": [
    "### to open, the terminal, a scary thing\n",
    "\n",
    "some people have problems to use the terminal, don't be afraid.\n",
    "1. open terminal (cmd, powershell, windows terminal, anaconda prompt)\n",
    "2. navigate to de place where you want to work (```cd whatsoever```)\n",
    "3. activate the enviroment you want to use ```conda activate your_env```\n",
    "4. call ```jupyter lab```"
   ]
  },
  {
   "cell_type": "markdown",
   "id": "eacaf589-a047-4051-8e53-aa0a4c7c5c42",
   "metadata": {
    "tags": []
   },
   "source": [
    "### kernels\n",
    "\n",
    "Jupyter stand for Julia, Python, and R. You can run this 3 different languages on it"
   ]
  },
  {
   "cell_type": "markdown",
   "id": "88bda190-21f2-43cb-83b8-8d8bc8bab8c1",
   "metadata": {
    "tags": []
   },
   "source": [
    "### shortcuts\n",
    "\n",
    "The shortcuts that I use in a regular basis \n",
    "\n",
    "```shift + enter``` run cell  \n",
    "\n",
    "``` enter``` ```esc``` editing or command \n",
    "\n",
    "While in command mode (```esc```):\n",
    "\n",
    "* ```up``` ```down``` navigate cells\n",
    "\n",
    "*  ```a``` ```b``` create cell up or down\n",
    "\n",
    "*  ```x``` ```c``` ```v``` cut, copy and paste cell  \n",
    "\n",
    "*  ```m``` ```y``` change to markdown or code\n",
    "\n",
    "*  ```control + shift + (up or down)``` move cell (custom)\n",
    "\n",
    "*  ```control + shift + -``` split cell\n",
    "\n",
    "*  ```shift + m``` merge cells \n",
    "\n",
    "While in editing mode (```enter```):\n",
    "\n",
    "* ```tab``` indent\n",
    "\n",
    "* ```control + ([])``` dedent indent selected lines\n",
    "\n",
    "* ```control + /``` comment uncomment lines\n",
    "\n",
    "* ```shift + tab``` show docstring\n"
   ]
  },
  {
   "cell_type": "markdown",
   "id": "426a0102-9b23-4834-9844-4d04e4f0555c",
   "metadata": {
    "tags": [],
    "toc-hr-collapsed": true
   },
   "source": [
    "### markdown\n",
    "\n",
    "Its a simple language to give extra formating to the text, useful to enrich your notebook. \n",
    "Need to declare the cell as a markdown cell, top menu or ```m``` in comand mode.\n",
    "To go back to code press ```y```"
   ]
  },
  {
   "cell_type": "markdown",
   "id": "53b2b2c5-2be4-47a9-b926-ae34cae8819d",
   "metadata": {
    "jp-MarkdownHeadingCollapsed": true,
    "tags": []
   },
   "source": [
    "#### headers\n",
    "\n",
    "Along with this notebook, I already set some markdown cells with headers to structure the document."
   ]
  },
  {
   "cell_type": "markdown",
   "id": "c09fb3da-b88a-4281-9bfd-145c6e58af9f",
   "metadata": {
    "jp-MarkdownHeadingCollapsed": true,
    "tags": []
   },
   "source": [
    "#### lists\n",
    "* This is a bullet list\n",
    "* This is a bullet list\n",
    "* This is a bullet list\n",
    "\n",
    "1. And you can also create ordered lists\n",
    "2. by using numbers\n",
    "3. and listing new items in the lists \n",
    "4. on their own lines"
   ]
  },
  {
   "cell_type": "markdown",
   "id": "b51d4b57-8eb7-46ef-9033-2a43f5f9ca83",
   "metadata": {
    "jp-MarkdownHeadingCollapsed": true,
    "tags": []
   },
   "source": [
    "#### block quotes\n",
    "> this a block quote  \n",
    "> here as well\n",
    "\n",
    "> And also can be nested\n",
    ">> like this\n",
    ">>> even more\n"
   ]
  },
  {
   "cell_type": "markdown",
   "id": "454c5059-3dc4-4c72-a9d2-570833dee9d2",
   "metadata": {
    "jp-MarkdownHeadingCollapsed": true,
    "tags": []
   },
   "source": [
    "#### reference links\n",
    "[chile]: http://en.wikipedia.org/wiki/Chile \"Wikipedia Article About Chile\" \n",
    "\n",
    "This is [a reference][chile]\n",
    "\n"
   ]
  },
  {
   "cell_type": "markdown",
   "id": "767367c5-5c83-4855-8106-114db7e99523",
   "metadata": {
    "jp-MarkdownHeadingCollapsed": true,
    "tags": []
   },
   "source": [
    "#### tables\n",
    "|Header|Header|Header|Header|\n",
    "|------|------|------|------|\n",
    "|Cell  |Cell  |Cell  | Cell |\n",
    "|Cell  |Cell  |Cell  | Cell |\n",
    "|Cell  |Cell  |Cell  | Cell |\n",
    "|Cell  |Cell  |Cell  | Cell |"
   ]
  },
  {
   "cell_type": "markdown",
   "id": "a5b2c07e-29f6-4214-b6bb-c6f57d204eaf",
   "metadata": {
    "tags": []
   },
   "source": [
    "#### style and emphasis\n",
    "*Italics*  _Italics_ **Bold** __Bold__"
   ]
  },
  {
   "cell_type": "markdown",
   "id": "439b324c-070f-4590-90f5-821cdf35d216",
   "metadata": {},
   "source": [
    "#### code\n",
    "The word ```monospace``` will appear in a code-like form.\n",
    "```python\n",
    "def function(n):\n",
    "    return n + 1\n",
    "```"
   ]
  },
  {
   "cell_type": "markdown",
   "id": "387f6fd2-6231-4d54-b386-e13ef50f8372",
   "metadata": {},
   "source": [
    "#### LaTeX math\n",
    "$z=\\dfrac{2x}{3y}$  \n",
    "\n",
    "$F(k) = \\int_{-\\infty}^{\\infty} f(x) e^{2\\pi i k} dx$\n",
    "\n",
    "$$2x+3y=z$$\n",
    "\n",
    "uses matjax server, if you don't have connection could not run"
   ]
  },
  {
   "cell_type": "markdown",
   "id": "3906ba01-3e16-44ac-b854-ed9e4d5e927c",
   "metadata": {},
   "source": [
    "#### images\n",
    "![][beta_dec]\n",
    "\n",
    "[beta_dec]:https://upload.wikimedia.org/wikipedia/commons/a/aa/Beta-minus_Decay.svg \"showing beta-minus decay.\""
   ]
  },
  {
   "cell_type": "markdown",
   "id": "c8679d6a-5641-44cf-b231-dd43d143ecf8",
   "metadata": {},
   "source": [
    "### videos"
   ]
  },
  {
   "cell_type": "code",
   "execution_count": null,
   "id": "dc6346e2-e780-45ae-aec5-f2e4581b2ced",
   "metadata": {},
   "outputs": [],
   "source": [
    "from IPython.display import YouTubeVideo\n",
    "YouTubeVideo(\"l0Zc7jhEcLg\", 800, 500)"
   ]
  },
  {
   "cell_type": "markdown",
   "id": "c583d0a7-da2a-48fd-b490-6fe337dfba0c",
   "metadata": {},
   "source": [
    "### HTLM\n",
    "\n",
    "<div class=\"alert alert-block alert-danger\">\n",
    "<b>Danger:</b> This alert box indicates a dangerous or potentially negative action.\n",
    "</div>\n",
    "\n",
    "More at: [HTLM](data\\useful-html-for-jupyter-notebook.ipynb)"
   ]
  },
  {
   "cell_type": "markdown",
   "id": "4960a560-2771-4cb2-9b5a-755bda2e2e2a",
   "metadata": {},
   "source": [
    "### magic commands and more from IPython enhacement\n",
    "\n",
    "https://ipython.readthedocs.io/en/stable/interactive/magics.html"
   ]
  },
  {
   "cell_type": "code",
   "execution_count": null,
   "id": "d2e460ff-646e-4dbc-a863-6d972c031bba",
   "metadata": {},
   "outputs": [],
   "source": [
    "# list of commands\n",
    "\n",
    "%lsmagic"
   ]
  },
  {
   "cell_type": "code",
   "execution_count": null,
   "id": "d4fafc8a-7762-441a-8332-fcf0b64f6ef0",
   "metadata": {},
   "outputs": [],
   "source": [
    "# timing funtions\n",
    "\n",
    "n = 100000\n",
    "%time sum(range(n))\n",
    "%timeit sum(range(n))"
   ]
  },
  {
   "cell_type": "code",
   "execution_count": null,
   "id": "14401ca8-a23c-409d-be7b-c1a3c1a45848",
   "metadata": {
    "tags": []
   },
   "outputs": [],
   "source": [
    "# check history of commands\n",
    "\n",
    "%history -n 4-6"
   ]
  },
  {
   "cell_type": "code",
   "execution_count": null,
   "id": "eed6f72e-1a9d-45f7-8793-053beb68d07c",
   "metadata": {},
   "outputs": [],
   "source": [
    "# listing variables in the kernel\n",
    "\n",
    "%who\n",
    "%who_ls int"
   ]
  },
  {
   "cell_type": "code",
   "execution_count": null,
   "id": "c1d67fe5-0c51-43a8-b921-30676340b43d",
   "metadata": {},
   "outputs": [],
   "source": [
    "# getting help in IPython\n",
    "\n",
    "?         # help /on IPython \n",
    "%quickref # cheatsheet of IPython"
   ]
  },
  {
   "cell_type": "code",
   "execution_count": 8,
   "id": "bfb6f3a1-9e37-44e5-b510-1650a743af05",
   "metadata": {},
   "outputs": [
    {
     "data": {
      "text/plain": [
       "\u001b[1;31mSignature:\u001b[0m \u001b[0mlen\u001b[0m\u001b[1;33m(\u001b[0m\u001b[0mobj\u001b[0m\u001b[1;33m,\u001b[0m \u001b[1;33m/\u001b[0m\u001b[1;33m)\u001b[0m\u001b[1;33m\u001b[0m\u001b[1;33m\u001b[0m\u001b[0m\n",
       "\u001b[1;31mDocstring:\u001b[0m Return the number of items in a container.\n",
       "\u001b[1;31mType:\u001b[0m      builtin_function_or_method\n"
      ]
     },
     "metadata": {},
     "output_type": "display_data"
    }
   ],
   "source": [
    "len?"
   ]
  },
  {
   "cell_type": "code",
   "execution_count": null,
   "id": "7c09c3d5-0cea-4c49-b8a8-fa0b872265b9",
   "metadata": {},
   "outputs": [],
   "source": [
    "# source code\n",
    "\n",
    "from scipy import ndimage\n",
    "\n",
    "ndimage.measurements.center_of_mass??"
   ]
  },
  {
   "cell_type": "markdown",
   "id": "5acb1cd1-9e17-4860-aed6-a4e82fd45913",
   "metadata": {},
   "source": [
    "and you can try ```Shift + Tab``` with the mouse cursor over a function."
   ]
  },
  {
   "cell_type": "code",
   "execution_count": null,
   "id": "1c2f32ae-3256-4fcf-97ad-645105769276",
   "metadata": {},
   "outputs": [],
   "source": [
    "# with '!' in front of the command you can run terminal commands\n",
    "\n",
    "!dir"
   ]
  },
  {
   "cell_type": "markdown",
   "id": "b87c43a3-d8bd-4235-b658-1ff95107d893",
   "metadata": {},
   "source": [
    "### Tab completion\n",
    "\n",
    "Tab completion is a useful way to explore the function of any object you’re dealing with. Simply type object_name.<TAB> to view the object’s attributes. Tab completion also works on file and directory names."
   ]
  },
  {
   "cell_type": "code",
   "execution_count": null,
   "id": "28fb2e7f-ec3f-4327-8e0d-291810a6342a",
   "metadata": {},
   "outputs": [],
   "source": [
    "from scipy import ndimage\n",
    "\n",
    "ndimage.measurements.c"
   ]
  },
  {
   "cell_type": "markdown",
   "id": "770bee2e-e7ca-412b-af3d-0c89e1ec07eb",
   "metadata": {},
   "source": [
    "### input, output, history IPython\n",
    "\n",
    "We can access different input or results of a cell by a tag or by history."
   ]
  },
  {
   "cell_type": "code",
   "execution_count": null,
   "id": "b639315c-3304-4bf8-9517-ab8d35d56e53",
   "metadata": {},
   "outputs": [],
   "source": [
    "10 + 10"
   ]
  },
  {
   "cell_type": "code",
   "execution_count": null,
   "id": "41d91954-c443-443c-bfdb-87a1dfe8c927",
   "metadata": {},
   "outputs": [],
   "source": [
    "# print last result\n",
    "_"
   ]
  },
  {
   "cell_type": "code",
   "execution_count": null,
   "id": "5982a595-45b3-4224-aa16-99bf2969e28a",
   "metadata": {},
   "outputs": [],
   "source": [
    "print('last output:', _)\n",
    "print('next one   :', __)\n",
    "print('and next   :', ___)\n",
    "# equivalent\n",
    "# print('last input:', _i)\n",
    "# print('next one  :', _ii)\n",
    "# print('and next  :', _iii)"
   ]
  },
  {
   "cell_type": "code",
   "execution_count": null,
   "id": "a9fdf172-0210-4447-915b-a08c4d08315c",
   "metadata": {},
   "outputs": [],
   "source": [
    "Out[15] # looking to the cell 34 (remember that depends on the execution order)"
   ]
  },
  {
   "cell_type": "markdown",
   "id": "c217f3eb-405d-45e7-a40a-c0578ff86bbb",
   "metadata": {},
   "source": [
    "### inputs and widgets"
   ]
  },
  {
   "cell_type": "code",
   "execution_count": null,
   "id": "ffffd0ba-3352-4511-aa94-5354f4add9c7",
   "metadata": {},
   "outputs": [],
   "source": [
    "# input\n",
    "\n",
    "enjoy = input('How much you enjoying this tutorial? ')\n",
    "\n",
    "print('enjoy is:', enjoy)"
   ]
  },
  {
   "cell_type": "code",
   "execution_count": null,
   "id": "f850dff3-9837-4f06-9c0d-b5baebce83f4",
   "metadata": {},
   "outputs": [],
   "source": [
    "# if jupyter widgets is install you can use more types of inputs \n",
    "\n",
    "import ipywidgets as wdg\n",
    "slider = wdg.IntSlider()\n",
    "display(slider)\n",
    "date_pick = wdg.DatePicker(\n",
    "    description='Pick a Date',\n",
    "    disabled=False\n",
    ")\n",
    "display(date_pick)"
   ]
  },
  {
   "cell_type": "markdown",
   "id": "26b3369e-b237-4379-bacf-3e9aa1ea1fcf",
   "metadata": {},
   "source": [
    "### display results inline"
   ]
  },
  {
   "cell_type": "code",
   "execution_count": null,
   "id": "f73a9109-81ac-4d75-8831-31415fb958f1",
   "metadata": {},
   "outputs": [],
   "source": [
    "# print a graphs \n",
    "\n",
    "import matplotlib.pyplot as plt\n",
    "\n",
    "X = range(10)\n",
    "Y = [x**x for x in X ]\n",
    "# %matplotlib inline\n",
    "plt.plot(X, Y)"
   ]
  },
  {
   "cell_type": "code",
   "execution_count": null,
   "id": "b8cb353a-99de-42a7-b412-5b92ecd263c2",
   "metadata": {},
   "outputs": [],
   "source": [
    "# print a table\n",
    "\n",
    "import pandas as pd\n",
    "\n",
    "df = pd.read_csv('data\\\\2021-09-24_Dy_Rack2_12A.csv')\n",
    "display(df)"
   ]
  },
  {
   "cell_type": "code",
   "execution_count": null,
   "id": "5a8e1e8d-b1ee-4b58-8a88-7f97fdd22a8b",
   "metadata": {},
   "outputs": [],
   "source": [
    "# Animated display\n",
    "\n",
    "from IPython.display import display, clear_output\n",
    "import numpy as np\n",
    "import time\n",
    "import matplotlib.pyplot as plt\n",
    "from scipy.special import jn\n",
    "\n",
    "x = np.linspace(0,5)\n",
    "f, ax = plt.subplots()\n",
    "ax.set_title(\"Bessel functions\")\n",
    "\n",
    "for n in range(1,10):\n",
    "    time.sleep(1)\n",
    "    ax.plot(x, jn(x,n))\n",
    "    clear_output(wait=True)\n",
    "    display(f)\n",
    "\n",
    "plt.close()"
   ]
  },
  {
   "cell_type": "markdown",
   "id": "bcd8806b-f141-410a-b127-a794db91a952",
   "metadata": {},
   "source": [
    "### emojis"
   ]
  },
  {
   "cell_type": "code",
   "execution_count": 10,
   "id": "decfb91e-ca3b-4da6-b6db-f7de51283997",
   "metadata": {},
   "outputs": [
    {
     "name": "stdout",
     "output_type": "stream",
     "text": [
      "Phd is very easy!!! 👍\n",
      "But you can copy and past as well\n"
     ]
    }
   ],
   "source": [
    "import emoji\n",
    "print(emoji.emojize('Phd is very easy!!! :thumbs_up:'))\n",
    "print(\"But you can copy and past as well\")"
   ]
  },
  {
   "cell_type": "markdown",
   "id": "aa3cd55f-7725-470d-b863-25b5336f5420",
   "metadata": {},
   "source": [
    "### notebook galleries\n",
    "\n",
    "There are many free notebooks in the web.\n",
    "An interest gallery [notebook gallery](https://gist.github.com/ocoyawale/54d92fd4bf92508a2a6e482b5fa480fd#introductory-tutorials)"
   ]
  },
  {
   "cell_type": "markdown",
   "id": "6113fa4f-bcd2-4f7b-8bb6-467e54ad8b79",
   "metadata": {},
   "source": [
    "[Next](1_Python_in_the_mezzanine.ipynb)"
   ]
  }
 ],
 "metadata": {
  "kernelspec": {
   "display_name": "Python 3 (ipykernel)",
   "language": "python",
   "name": "python3"
  },
  "language_info": {
   "codemirror_mode": {
    "name": "ipython",
    "version": 3
   },
   "file_extension": ".py",
   "mimetype": "text/x-python",
   "name": "python",
   "nbconvert_exporter": "python",
   "pygments_lexer": "ipython3",
   "version": "3.7.11"
  },
  "toc-autonumbering": true,
  "toc-showcode": false,
  "toc-showmarkdowntxt": false,
  "toc-showtags": false
 },
 "nbformat": 4,
 "nbformat_minor": 5
}
