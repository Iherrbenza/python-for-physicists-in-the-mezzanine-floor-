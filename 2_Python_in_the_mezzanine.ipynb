{
 "cells": [
  {
   "cell_type": "markdown",
   "id": "095c2990-9052-4380-961d-c81a9cee4ffa",
   "metadata": {},
   "source": [
    "<b style=\"font-size:45px;color:#2196F3;\">Introduction to python for pysicists in the mezzanine floor</b>  \n",
    "<b style=\"font-size:30px;color:#2196F3;\">notebook_2_numpy</b>\n",
    "\n",
    "In this 3rd notebook I'll give some basics of the numpy library. \n",
    "https://numpy.org/\n",
    "\n",
    "Ivan Herrera Benzaquen"
   ]
  },
  {
   "cell_type": "markdown",
   "id": "386408a7-9ee1-419e-8fad-c03ccc9c18bb",
   "metadata": {},
   "source": [
    "# Numpy"
   ]
  },
  {
   "cell_type": "code",
   "execution_count": null,
   "id": "11d330be-503e-442d-9a1c-84b6f589238e",
   "metadata": {},
   "outputs": [],
   "source": [
    "import numpy as np\n",
    "import matplotlib.pyplot as plt\n",
    "import cv2"
   ]
  },
  {
   "cell_type": "code",
   "execution_count": null,
   "id": "abca5728-6bf8-489e-bff8-aee57ef7fd7b",
   "metadata": {},
   "outputs": [],
   "source": [
    "# init an capture object linked to the camera\n",
    "cap = cv2.VideoCapture(0)\n",
    "# Capture frame\n",
    "ret, frame = cap.read()\n",
    "cv2.VideoCapture(0).release()\n",
    "plt.imshow(frame)"
   ]
  },
  {
   "cell_type": "code",
   "execution_count": null,
   "id": "2a13ee78-3243-4b0d-9e7a-37b51c29211f",
   "metadata": {},
   "outputs": [],
   "source": [
    "plt.imshow(frame)"
   ]
  },
  {
   "cell_type": "code",
   "execution_count": null,
   "id": "7913714d-e8f1-4723-9544-f6536730c36c",
   "metadata": {},
   "outputs": [],
   "source": [
    "frame.shape"
   ]
  },
  {
   "cell_type": "code",
   "execution_count": null,
   "id": "8c5cf924-c95e-458a-b486-2ab4e283567c",
   "metadata": {},
   "outputs": [],
   "source": [
    "image = frame[80:420,100:540,2]\n",
    "# image = np.mean(frame, axis=2)\n",
    "image = -1*image + np.max(image)\n",
    "plt.imshow(image, cmap='gray', vmin=0, vmax=255)\n",
    "plt.colorbar()\n",
    "plt.show()\n",
    "line = image[:, 250]\n",
    "plt.plot(line)\n",
    "plt.plot()"
   ]
  },
  {
   "cell_type": "code",
   "execution_count": null,
   "id": "b1dfae73-799a-4ecc-9cdf-53ffa2457229",
   "metadata": {},
   "outputs": [],
   "source": [
    "mask = image > 0\n",
    "mask.shape"
   ]
  },
  {
   "cell_type": "code",
   "execution_count": null,
   "id": "d42f87bf-51eb-483b-ab44-5baa93eca0f9",
   "metadata": {},
   "outputs": [],
   "source": [
    "image[mask].shape"
   ]
  },
  {
   "cell_type": "markdown",
   "id": "ced8ca92-b9d1-41a5-9ed3-5d87da5dace9",
   "metadata": {},
   "source": [
    "[Previous](1_Python_in_the_mezzanine.ipynb)  \n",
    "[Next](3_Python_in_the_mezzanine.ipynb)"
   ]
  },
  {
   "cell_type": "code",
   "execution_count": null,
   "id": "5779f4a3-ae72-4314-b583-6b28e6301582",
   "metadata": {},
   "outputs": [],
   "source": []
  }
 ],
 "metadata": {
  "kernelspec": {
   "display_name": "Python 3 (ipykernel)",
   "language": "python",
   "name": "python3"
  },
  "language_info": {
   "codemirror_mode": {
    "name": "ipython",
    "version": 3
   },
   "file_extension": ".py",
   "mimetype": "text/x-python",
   "name": "python",
   "nbconvert_exporter": "python",
   "pygments_lexer": "ipython3",
   "version": "3.7.11"
  }
 },
 "nbformat": 4,
 "nbformat_minor": 5
}
